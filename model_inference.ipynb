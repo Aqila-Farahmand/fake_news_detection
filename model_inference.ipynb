{
  "nbformat": 4,
  "nbformat_minor": 0,
  "metadata": {
    "colab": {
      "provenance": []
    },
    "kernelspec": {
      "name": "python3",
      "display_name": "Python 3"
    },
    "language_info": {
      "name": "python"
    }
  },
  "cells": [
    {
      "cell_type": "code",
      "execution_count": null,
      "metadata": {
        "id": "EsLPa-kYh9KR"
      },
      "outputs": [],
      "source": [
        "import pandas as pd\n",
        "import torch\n",
        "from transformers import AutoModelForSequenceClassification, AutoTokenizer\n",
        "\n",
        "# Load the CSV file (test dataset)\n",
        "test_data = pd.read_csv(\"test_dataset.csv\")\n",
        "\n",
        "# Load model and tokenizer\n",
        "model_name = \"distilbert_fake_news_classification\"\n",
        "model = AutoModelForSequenceClassification.from_pretrained(model_name)\n",
        "tokenizer = AutoTokenizer.from_pretrained(model_name)\n",
        "\n",
        "\n",
        "model.eval()\n",
        "\n",
        "# Tokenize the test dataset\n",
        "inputs = tokenizer(\n",
        "    list(test_data['text']),\n",
        "    padding=True,\n",
        "    truncation=True,\n",
        "    return_tensors=\"pt\",\n",
        "    max_length=128\n",
        ")\n",
        "\n",
        "\n",
        "predictions = []\n",
        "\n",
        "\n",
        "with torch.no_grad():\n",
        "    outputs = model(**inputs)\n",
        "    logits = outputs.logits\n",
        "\n",
        "    predicted_classes = torch.argmax(logits, dim=-1)  # Get class indices\n",
        "    predictions = predicted_classes.cpu().numpy()  # Convert to numpy array for easy use\n",
        "\n",
        "# Add the predictions to the test dataset\n",
        "test_data['predictions'] = predictions\n",
        "\n",
        "test_data.to_csv(\"test_predictions.csv\", index=False)\n"
      ]
    }
  ]
}