{
 "nbformat": 4,
 "nbformat_minor": 0,
 "metadata": {
  "colab": {
   "provenance": []
  },
  "kernelspec": {
   "name": "python3",
   "display_name": "Python 3"
  },
  "language_info": {
   "name": "python"
  }
 },
 "cells": [
  {
   "cell_type": "code",
   "execution_count": null,
   "metadata": {
    "id": "EsLPa-kYh9KR"
   },
   "outputs": [],
   "source": [
    "import pandas as pd\n",
    "import torch\n",
    "from transformers import AutoModelForSequenceClassification, AutoTokenizer\n",
    "from torch.utils.data import DataLoader, TensorDataset\n",
    "\n",
    "# Load the CSV file (test dataset)\n",
    "test_data = pd.read_csv(\"test_dataset.csv\")\n",
    "\n",
    "# Load model and tokenizer\n",
    "model_name = \"fake_news_classification\"\n",
    "model = AutoModelForSequenceClassification.from_pretrained(model_name)\n",
    "tokenizer = AutoTokenizer.from_pretrained(model_name)\n",
    "\n",
    "model.eval()\n",
    "\n",
    "device = torch.device(\"cuda\" if torch.cuda.is_available() else \"cpu\")\n",
    "model.to(device)\n",
    "\n",
    "batch_size = 32\n",
    "max_length = 128\n",
    "\n",
    "# Tokenize the dataset\n",
    "inputs = tokenizer(\n",
    "    list(test_data['text']),\n",
    "    padding=True,\n",
    "    truncation=True,\n",
    "    return_tensors=\"pt\",\n",
    "    max_length=max_length\n",
    ")\n",
    "\n",
    "# Create a DataLoader for batching\n",
    "dataset = TensorDataset(inputs['input_ids'], inputs['attention_mask'])\n",
    "data_loader = DataLoader(dataset, batch_size=batch_size)\n",
    "\n",
    "predictions = []\n",
    "\n",
    "# Perform inference in batches\n",
    "with torch.no_grad():\n",
    "    for batch in data_loader:\n",
    "        input_ids, attention_mask = [x.to(device) for x in batch]\n",
    "        \n",
    "        # Forward pass: get model output\n",
    "        outputs = model(input_ids=input_ids, attention_mask=attention_mask)\n",
    "        logits = outputs.logits\n",
    "        \n",
    "        # Get the predicted class (index with the highest score)\n",
    "        predicted_classes = torch.argmax(logits, dim=-1)\n",
    "        predictions.extend(predicted_classes.tolist())\n",
    "\n",
    "# Add predictions to the test data\n",
    "test_data['pred'] = predictions\n",
    "\n",
    "test_data.to_csv(\"test_predictions.csv\", index=False)\n",
    "\n",
    "print(\"Predictions saved to 'test_predictions.csv'.\")\n"
   ]
  }
 ]
}
