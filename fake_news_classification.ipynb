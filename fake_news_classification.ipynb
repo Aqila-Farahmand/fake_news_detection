{
 "nbformat": 4,
 "nbformat_minor": 0,
 "metadata": {
  "colab": {
   "provenance": [],
   "gpuType": "T4"
  },
  "kernelspec": {
   "name": "python3",
   "display_name": "Python 3 (ipykernel)",
   "language": "python"
  },
  "language_info": {
   "name": "python"
  },
  "accelerator": "GPU"
 },
 "cells": [
  {
   "cell_type": "markdown",
   "source": [
    "# Import Required Libraries\n"
   ],
   "metadata": {
    "id": "fxiA1oNssM2-"
   }
  },
  {
   "cell_type": "code",
   "source": [
    "!pip install transformers"
   ],
   "metadata": {
    "id": "hs1IMiUVsZzO",
    "colab": {
     "base_uri": "https://localhost:8080/"
    },
    "collapsed": true,
    "outputId": "dd818528-9d2a-4d41-ae82-0adb32807ccc",
    "ExecuteTime": {
     "end_time": "2025-02-18T10:33:14.493217Z",
     "start_time": "2025-02-18T10:33:11.921532Z"
    }
   },
   "execution_count": 1,
   "outputs": []
  },
  {
   "cell_type": "code",
   "source": [
    "import pandas as pd\n",
    "import torch\n",
    "from torch.optim import AdamW\n",
    "from torch.utils.data import DataLoader, Dataset\n",
    "from sklearn.model_selection import train_test_split\n",
    "from tqdm.auto import tqdm\n",
    "from transformers import AutoTokenizer, AutoModelForSequenceClassification\n",
    "MODEL_NAME = \"distilbert-base-uncased\""
   ],
   "metadata": {
    "id": "D9GJ-oofr8ZO",
    "ExecuteTime": {
     "end_time": "2025-02-18T10:33:15.007177Z",
     "start_time": "2025-02-18T10:33:14.494970Z"
    }
   },
   "execution_count": 2,
   "outputs": []
  },
  {
   "cell_type": "markdown",
   "source": [
    "# Load the Dataset\n",
    "\n",
    "Load the dataset into a pandas DataFrame"
   ],
   "metadata": {
    "id": "GcBVA15rscR3"
   }
  },
  {
   "cell_type": "code",
   "source": "dataset = pd.read_csv('news_dataset.csv')",
   "metadata": {
    "id": "zxuSojQnsYLG"
   },
   "execution_count": null,
   "outputs": []
  },
  {
   "cell_type": "code",
   "source": [
    "dataset.head()"
   ],
   "metadata": {
    "colab": {
     "base_uri": "https://localhost:8080/",
     "height": 206
    },
    "id": "rdqucTjemGqn",
    "outputId": "71ff14fb-8138-495a-b12b-b73f2f20a8cc"
   },
   "execution_count": null,
   "outputs": []
  },
  {
   "cell_type": "code",
   "source": [
    "dataset.shape"
   ],
   "metadata": {
    "id": "Neew3S5YkBAm",
    "colab": {
     "base_uri": "https://localhost:8080/"
    },
    "outputId": "b359a8ce-143f-44a5-b3ee-99642c03a785"
   },
   "execution_count": null,
   "outputs": []
  },
  {
   "cell_type": "code",
   "source": [
    "dataset.drop_duplicates(inplace=True)"
   ],
   "metadata": {
    "id": "u1vQQg6opghb"
   },
   "execution_count": null,
   "outputs": []
  },
  {
   "cell_type": "code",
   "source": [
    "dataset.dropna(inplace=True)"
   ],
   "metadata": {
    "id": "c0-eeQKO6HIC"
   },
   "execution_count": null,
   "outputs": []
  },
  {
   "cell_type": "code",
   "source": [
    "dataset.shape"
   ],
   "metadata": {
    "id": "Y1IJ_3ecpkIp"
   },
   "execution_count": null,
   "outputs": []
  },
  {
   "cell_type": "code",
   "source": [
    "dataset.head()"
   ],
   "metadata": {
    "colab": {
     "base_uri": "https://localhost:8080/",
     "height": 206
    },
    "id": "h4uxYFmtaN72",
    "outputId": "e61de311-7e9c-4351-f904-ca5127ff9456"
   },
   "execution_count": null,
   "outputs": []
  },
  {
   "cell_type": "markdown",
   "source": [
    "**Rename the dataset class column to labels**"
   ],
   "metadata": {
    "id": "3vZ2WCRPqzMx"
   }
  },
  {
   "cell_type": "code",
   "source": [
    "dataset[\"class\"] = dataset[\"labels\"]"
   ],
   "metadata": {
    "id": "I-zF6hG-aXwA"
   },
   "execution_count": null,
   "outputs": []
  },
  {
   "cell_type": "code",
   "source": [
    "dataset.head()"
   ],
   "metadata": {
    "id": "-gydIASXuPqY"
   },
   "execution_count": null,
   "outputs": []
  },
  {
   "cell_type": "markdown",
   "source": [
    "# Split the data into training, validation and test sets\n"
   ],
   "metadata": {
    "id": "t9h859kos6k1"
   }
  },
  {
   "cell_type": "code",
   "source": [
    "# train-temp split (80:20)\n",
    "\n",
    "train_data, temp_data = train_test_split(dataset, test_size=0.2, random_state=42)\n",
    "\n",
    "# validation-test split (10:10) -> 80:10:10\n",
    "\n",
    "val_data, test_data = train_test_split(temp_data, test_size=0.5, random_state=42)\n"
   ],
   "metadata": {
    "id": "sAo8VktUps4u"
   },
   "execution_count": null,
   "outputs": []
  },
  {
   "cell_type": "code",
   "source": [
    "train_data.head()"
   ],
   "metadata": {
    "id": "KX1ZqTwUsxE6"
   },
   "execution_count": null,
   "outputs": []
  },
  {
   "cell_type": "code",
   "source": [
    "train_data.shape"
   ],
   "metadata": {
    "id": "1XUwN-NnsnOf"
   },
   "execution_count": null,
   "outputs": []
  },
  {
   "cell_type": "code",
   "source": [
    "test_data.head()"
   ],
   "metadata": {
    "id": "qdofl3VXrk-H"
   },
   "execution_count": null,
   "outputs": []
  },
  {
   "cell_type": "code",
   "source": [
    "val_data.head()"
   ],
   "metadata": {
    "colab": {
     "base_uri": "https://localhost:8080/",
     "height": 206
    },
    "id": "pRQsKZ5Nu_em",
    "outputId": "3555ad94-f6b6-4b06-eb80-7ccc472f9513"
   },
   "execution_count": null,
   "outputs": []
  },
  {
   "cell_type": "code",
   "source": [
    "val_data.shape"
   ],
   "metadata": {
    "id": "f0Yd6V7WsZyC"
   },
   "execution_count": null,
   "outputs": []
  },
  {
   "cell_type": "code",
   "source": [
    "''' This class takes in the data, tokenizes it using the AutoTokenizer for our MODEL_NAME,\n",
    " and returns the input IDs, attention masks, and labels.'''\n",
    "\n",
    "tokenizer = AutoTokenizer.from_pretrained(MODEL_NAME)\n",
    "\n",
    "class FakeNewsDataset(Dataset):\n",
    "    def __init__(self, data, max_len=128):\n",
    "        self.data = data\n",
    "        self.max_len = max_len\n",
    "        self.tokenizer = AutoTokenizer.from_pretrained(MODEL_NAME)\n",
    "\n",
    "    def __len__(self):\n",
    "        return len(self.data)\n",
    "\n",
    "    def __getitem__(self, index):\n",
    "        text = self.data.iloc[index]['text']\n",
    "        labels = self.data.iloc[index]['labels']\n",
    "        inputs = self.tokenizer.encode_plus(\n",
    "            text,\n",
    "            add_special_tokens=True,\n",
    "            max_length=self.max_len,\n",
    "            padding='max_length',\n",
    "            truncation=True,\n",
    "            return_token_type_ids=True,\n",
    "            return_attention_mask=True,\n",
    "            return_tensors='pt',\n",
    "        )\n",
    "        return inputs['input_ids'].squeeze(0), inputs['attention_mask'].squeeze(0), torch.tensor(labels, dtype=torch.long)"
   ],
   "metadata": {
    "id": "9-4ULm_Ps1f_"
   },
   "execution_count": null,
   "outputs": []
  },
  {
   "cell_type": "markdown",
   "source": [
    "# DataLoader\n",
    "\n",
    "Create a DataLoader for the training and test datasets so the data is iterated as batches"
   ],
   "metadata": {
    "id": "UU4stKlSmkiR"
   }
  },
  {
   "cell_type": "code",
   "source": [
    "train_dataset = FakeNewsDataset(train_data)\n",
    "train_loader = DataLoader(train_dataset, batch_size=32, shuffle=True)\n",
    "\n",
    "val_dataset = FakeNewsDataset(val_data)\n",
    "val_loader = DataLoader(val_dataset, batch_size=32, shuffle=False)"
   ],
   "metadata": {
    "id": "qoRnpQ_4tYr6"
   },
   "execution_count": null,
   "outputs": []
  },
  {
   "cell_type": "markdown",
   "source": [
    "# Load the model\n",
    "\n",
    "We'll use the AutoModelForSequenceClassification to load from the MODEL_NAME (base model) for binary text classification"
   ],
   "metadata": {
    "id": "F3qhP7znnuII"
   }
  },
  {
   "cell_type": "code",
   "source": [
    "model = AutoModelForSequenceClassification.from_pretrained(MODEL_NAME, num_labels=2)"
   ],
   "metadata": {
    "id": "6RVADiiIngBS"
   },
   "execution_count": null,
   "outputs": []
  },
  {
   "cell_type": "markdown",
   "source": [
    "# Optimizer and learning rate scheduler\n",
    "\n",
    "Create an optimizer and learning rate scheduler to fine-tune the model.\n",
    "\n",
    "We use the AdamW optimizer from PyTorch.\n"
   ],
   "metadata": {
    "id": "UX7MIhWjoBF7"
   }
  },
  {
   "cell_type": "markdown",
   "source": [],
   "metadata": {
    "id": "_J-tAXrdYgUW"
   }
  },
  {
   "cell_type": "code",
   "source": [
    "# Training Hyperparameters\n",
    "batch_size = 32\n",
    "num_epochs = 3\n",
    "learning_rate = 2e-5\n",
    "weight_decay = 0.01\n"
   ],
   "metadata": {
    "id": "e5vUNAsm1b11"
   },
   "execution_count": null,
   "outputs": []
  },
  {
   "cell_type": "code",
   "source": [
    "optimizer = AdamW(model.parameters(), lr=2e-5, weight_decay=0.01)"
   ],
   "metadata": {
    "id": "ZO2SXeJ3oDan"
   },
   "execution_count": null,
   "outputs": []
  },
  {
   "cell_type": "markdown",
   "source": [
    "Create the default learning rate scheduler from Trainer:"
   ],
   "metadata": {
    "id": "ZhKNROluoyy5"
   }
  },
  {
   "cell_type": "code",
   "source": [
    "from transformers import get_scheduler\n",
    "\n",
    "# number of warmup steps for learning rate scheduler\n",
    "warmup_steps=int((len(train_loader)/batch_size) * num_epochs * 0.2)\n",
    "\n",
    "num_training_steps = num_epochs * len(train_loader)\n",
    "\n",
    "lr_scheduler = get_scheduler(\n",
    "    name=\"linear\", optimizer=optimizer, num_warmup_steps=warmup_steps, num_training_steps=num_training_steps\n",
    ")"
   ],
   "metadata": {
    "id": "J5SK-4IwoXCm"
   },
   "execution_count": null,
   "outputs": []
  },
  {
   "cell_type": "markdown",
   "source": [
    "# Specify the device to use a GPU if available"
   ],
   "metadata": {
    "id": "g9yoOZnSp09z"
   }
  },
  {
   "cell_type": "code",
   "source": [
    "from accelerate.test_utils.testing import get_backend\n",
    "\n",
    "device, _, _ = get_backend() # automatically detects the device type (CUDA, CPU, XPU, MPS, etc.)\n",
    "\n",
    "model.to(device)"
   ],
   "metadata": {
    "id": "LxTCFj7tpiOD"
   },
   "execution_count": null,
   "outputs": []
  },
  {
   "cell_type": "code",
   "source": [
    "if torch.cuda.is_available():\n",
    "    print(\"GPU is available and PyTorch can use it.\")\n",
    "else:\n",
    "    print(\"GPU is not available or PyTorch cannot use it.\")"
   ],
   "metadata": {
    "id": "RJVTOgi8qJwy"
   },
   "execution_count": null,
   "outputs": []
  },
  {
   "cell_type": "markdown",
   "source": [
    "# Train the Model"
   ],
   "metadata": {
    "id": "a-oq19GGoXZh"
   }
  },
  {
   "cell_type": "code",
   "source": [
    "progress_bar = tqdm(range(num_training_steps))\n",
    "\n",
    "model.train()\n",
    "\n",
    "# Training Loop\n",
    "for epoch in range(num_epochs):\n",
    "    for batch in train_loader:\n",
    "        batch = {k: v.to(device) for k, v in batch.items()}\n",
    "        outputs = model(**batch)\n",
    "        loss = outputs.loss\n",
    "        loss.backward()\n",
    "\n",
    "        optimizer.step()\n",
    "        lr_scheduler.step()\n",
    "        optimizer.zero_grad()\n",
    "        progress_bar.update(1)"
   ],
   "metadata": {
    "id": "s5Xpjq9WqloW"
   },
   "execution_count": null,
   "outputs": []
  },
  {
   "cell_type": "markdown",
   "source": [
    "# Evaluate"
   ],
   "metadata": {
    "id": "AuLFGvYqrGIT"
   }
  },
  {
   "cell_type": "code",
   "source": [
    "import evaluate\n",
    "\n",
    "metric = evaluate.load(\"accuracy\")\n",
    "\n",
    "model.eval()\n",
    "\n",
    "for batch in val_loader:\n",
    "    batch = {k: v.to(device) for k, v in batch.items()}\n",
    "    with torch.no_grad():\n",
    "        outputs = model(**batch)\n",
    "\n",
    "    logits = outputs.logits\n",
    "    predictions = torch.argmax(logits, dim=-1)\n",
    "    metric.add_batch(predictions=predictions, references=batch[\"labels\"])\n",
    "\n",
    "metric.compute()\n",
    "\n",
    "# Instead of torch.save(model), this will save the model in a structured folder)\n",
    "#torch.save(model, f\"fake_news_detection\")\n",
    "model.save_pretrained(\"fake_news_classification\")\n",
    "tokenizer.save_pretrained(\"fake_news_classification\")"
   ],
   "metadata": {
    "id": "8RDSvk4Aq3D_"
   },
   "execution_count": null,
   "outputs": []
  },
  {
   "cell_type": "code",
   "source": "",
   "metadata": {
    "id": "KO8AiKCOtAr-"
   },
   "execution_count": null,
   "outputs": []
  }
 ]
}
