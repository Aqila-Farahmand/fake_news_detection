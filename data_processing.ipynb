{
 "metadata": {
  "kernelspec": {
   "language": "python",
   "display_name": "Python 3",
   "name": "python3"
  },
  "language_info": {
   "name": "python",
   "version": "3.10.12",
   "mimetype": "text/x-python",
   "codemirror_mode": {
    "name": "ipython",
    "version": 3
   },
   "pygments_lexer": "ipython3",
   "nbconvert_exporter": "python",
   "file_extension": ".py"
  },
  "kaggle": {
   "accelerator": "none",
   "dataSources": [
    {
     "sourceType": "datasetVersion",
     "sourceId": 8165591,
     "datasetId": 4831777,
     "databundleVersionId": 8287561
    }
   ],
   "dockerImageVersionId": 30886,
   "isInternetEnabled": false,
   "language": "python",
   "sourceType": "notebook",
   "isGpuEnabled": false
  }
 },
 "nbformat_minor": 4,
 "nbformat": 4,
 "cells": [
  {
   "cell_type": "code",
   "source": [
    "# The dataset is downloaded from Kaggle\n",
    "# In Kaggle notebook env the input data files are available in the read-only \"../input/\" directory\n",
    "\n",
    "# This will list all files under the input directory\n",
    "\n",
    "import os\n",
    "for dirname, _, filenames in os.walk('/kaggle/input'):\n",
    "    for filename in filenames:\n",
    "        print(os.path.join(dirname, filename))\n",
    "\n",
    "# We can write up to 20GB to the (/kaggle/working/)\n",
    "# We can write temporary files to /kaggle/temp/"
   ],
   "metadata": {
    "_uuid": "8f2839f25d086af736a60e9eeb907d3b93b6e0e5",
    "_cell_guid": "b1076dfc-b9ad-4769-8c92-a6c4dae69d19",
    "trusted": true,
    "execution": {
     "iopub.status.busy": "2025-02-10T15:19:20.644419Z",
     "iopub.execute_input": "2025-02-10T15:19:20.644799Z",
     "iopub.status.idle": "2025-02-10T15:19:20.653750Z",
     "shell.execute_reply.started": "2025-02-10T15:19:20.644766Z",
     "shell.execute_reply": "2025-02-10T15:19:20.652227Z"
    }
   },
   "outputs": [
    {
     "name": "stdout",
     "text": "/kaggle/input/fake-and-real-news-dataset/True.csv\n/kaggle/input/fake-and-real-news-dataset/Fake.csv\n",
     "output_type": "stream"
    }
   ],
   "execution_count": 41
  },
  {
   "cell_type": "code",
   "source": "import pandas as pd\nimport numpy as np\nimport seaborn as sns\nimport matplotlib.pyplot as plt\nfrom sklearn.model_selection import train_test_split\nfrom sklearn.metrics import accuracy_score\nfrom sklearn.metrics import classification_report\nimport re\nimport string",
   "metadata": {
    "trusted": true,
    "execution": {
     "iopub.status.busy": "2025-02-10T15:19:23.642947Z",
     "iopub.execute_input": "2025-02-10T15:19:23.643279Z",
     "iopub.status.idle": "2025-02-10T15:19:23.648328Z",
     "shell.execute_reply.started": "2025-02-10T15:19:23.643256Z",
     "shell.execute_reply": "2025-02-10T15:19:23.647046Z"
    }
   },
   "outputs": [],
   "execution_count": 42
  },
  {
   "cell_type": "code",
   "source": "import kagglehub\n\n# Download latest version\npath = kagglehub.dataset_download(\"clmentbisaillon/fake-and-real-news-dataset\")\n\nprint(\"Path to dataset files:\", path)",
   "metadata": {
    "trusted": true,
    "execution": {
     "iopub.status.busy": "2025-02-10T15:19:26.500292Z",
     "iopub.execute_input": "2025-02-10T15:19:26.500751Z",
     "iopub.status.idle": "2025-02-10T15:19:26.696202Z",
     "shell.execute_reply.started": "2025-02-10T15:19:26.500708Z",
     "shell.execute_reply": "2025-02-10T15:19:26.695008Z"
    }
   },
   "outputs": [
    {
     "name": "stdout",
     "text": "Path to dataset files: /kaggle/input/fake-and-real-news-dataset\n",
     "output_type": "stream"
    }
   ],
   "execution_count": 43
  },
  {
   "cell_type": "code",
   "source": "df_fake = pd.read_csv(\"/kaggle/input/fake-and-real-news-dataset/Fake.csv\")\ndf_true = pd.read_csv(\"/kaggle/input/fake-and-real-news-dataset/True.csv\")",
   "metadata": {
    "trusted": true,
    "execution": {
     "iopub.status.busy": "2025-02-10T15:19:28.785065Z",
     "iopub.execute_input": "2025-02-10T15:19:28.785428Z",
     "iopub.status.idle": "2025-02-10T15:19:30.325143Z",
     "shell.execute_reply.started": "2025-02-10T15:19:28.785396Z",
     "shell.execute_reply": "2025-02-10T15:19:30.323898Z"
    }
   },
   "outputs": [],
   "execution_count": 44
  },
  {
   "cell_type": "code",
   "source": "df_fake.head()",
   "metadata": {
    "trusted": true,
    "execution": {
     "iopub.status.busy": "2025-02-10T15:19:33.178448Z",
     "iopub.execute_input": "2025-02-10T15:19:33.178845Z",
     "iopub.status.idle": "2025-02-10T15:19:33.190711Z",
     "shell.execute_reply.started": "2025-02-10T15:19:33.178808Z",
     "shell.execute_reply": "2025-02-10T15:19:33.189406Z"
    }
   },
   "outputs": [
    {
     "execution_count": 45,
     "output_type": "execute_result",
     "data": {
      "text/plain": "                                               title  \\\n0   Donald Trump Sends Out Embarrassing New Year’...   \n1   Drunk Bragging Trump Staffer Started Russian ...   \n2   Sheriff David Clarke Becomes An Internet Joke...   \n3   Trump Is So Obsessed He Even Has Obama’s Name...   \n4   Pope Francis Just Called Out Donald Trump Dur...   \n\n                                                text subject  \\\n0  Donald Trump just couldn t wish all Americans ...    News   \n1  House Intelligence Committee Chairman Devin Nu...    News   \n2  On Friday, it was revealed that former Milwauk...    News   \n3  On Christmas day, Donald Trump announced that ...    News   \n4  Pope Francis used his annual Christmas Day mes...    News   \n\n                date  \n0  December 31, 2017  \n1  December 31, 2017  \n2  December 30, 2017  \n3  December 29, 2017  \n4  December 25, 2017  ",
      "text/html": "<div>\n<style scoped>\n    .dataframe tbody tr th:only-of-type {\n        vertical-align: middle;\n    }\n\n    .dataframe tbody tr th {\n        vertical-align: top;\n    }\n\n    .dataframe thead th {\n        text-align: right;\n    }\n</style>\n<table border=\"1\" class=\"dataframe\">\n  <thead>\n    <tr style=\"text-align: right;\">\n      <th></th>\n      <th>title</th>\n      <th>text</th>\n      <th>subject</th>\n      <th>date</th>\n    </tr>\n  </thead>\n  <tbody>\n    <tr>\n      <th>0</th>\n      <td>Donald Trump Sends Out Embarrassing New Year’...</td>\n      <td>Donald Trump just couldn t wish all Americans ...</td>\n      <td>News</td>\n      <td>December 31, 2017</td>\n    </tr>\n    <tr>\n      <th>1</th>\n      <td>Drunk Bragging Trump Staffer Started Russian ...</td>\n      <td>House Intelligence Committee Chairman Devin Nu...</td>\n      <td>News</td>\n      <td>December 31, 2017</td>\n    </tr>\n    <tr>\n      <th>2</th>\n      <td>Sheriff David Clarke Becomes An Internet Joke...</td>\n      <td>On Friday, it was revealed that former Milwauk...</td>\n      <td>News</td>\n      <td>December 30, 2017</td>\n    </tr>\n    <tr>\n      <th>3</th>\n      <td>Trump Is So Obsessed He Even Has Obama’s Name...</td>\n      <td>On Christmas day, Donald Trump announced that ...</td>\n      <td>News</td>\n      <td>December 29, 2017</td>\n    </tr>\n    <tr>\n      <th>4</th>\n      <td>Pope Francis Just Called Out Donald Trump Dur...</td>\n      <td>Pope Francis used his annual Christmas Day mes...</td>\n      <td>News</td>\n      <td>December 25, 2017</td>\n    </tr>\n  </tbody>\n</table>\n</div>"
     },
     "metadata": {}
    }
   ],
   "execution_count": 45
  },
  {
   "cell_type": "code",
   "source": "df_true.head(5)",
   "metadata": {
    "trusted": true,
    "execution": {
     "iopub.status.busy": "2025-02-10T15:19:37.280094Z",
     "iopub.execute_input": "2025-02-10T15:19:37.280446Z",
     "iopub.status.idle": "2025-02-10T15:19:37.291364Z",
     "shell.execute_reply.started": "2025-02-10T15:19:37.280419Z",
     "shell.execute_reply": "2025-02-10T15:19:37.290275Z"
    }
   },
   "outputs": [
    {
     "execution_count": 46,
     "output_type": "execute_result",
     "data": {
      "text/plain": "                                               title  \\\n0  As U.S. budget fight looms, Republicans flip t...   \n1  U.S. military to accept transgender recruits o...   \n2  Senior U.S. Republican senator: 'Let Mr. Muell...   \n3  FBI Russia probe helped by Australian diplomat...   \n4  Trump wants Postal Service to charge 'much mor...   \n\n                                                text       subject  \\\n0  WASHINGTON (Reuters) - The head of a conservat...  politicsNews   \n1  WASHINGTON (Reuters) - Transgender people will...  politicsNews   \n2  WASHINGTON (Reuters) - The special counsel inv...  politicsNews   \n3  WASHINGTON (Reuters) - Trump campaign adviser ...  politicsNews   \n4  SEATTLE/WASHINGTON (Reuters) - President Donal...  politicsNews   \n\n                 date  \n0  December 31, 2017   \n1  December 29, 2017   \n2  December 31, 2017   \n3  December 30, 2017   \n4  December 29, 2017   ",
      "text/html": "<div>\n<style scoped>\n    .dataframe tbody tr th:only-of-type {\n        vertical-align: middle;\n    }\n\n    .dataframe tbody tr th {\n        vertical-align: top;\n    }\n\n    .dataframe thead th {\n        text-align: right;\n    }\n</style>\n<table border=\"1\" class=\"dataframe\">\n  <thead>\n    <tr style=\"text-align: right;\">\n      <th></th>\n      <th>title</th>\n      <th>text</th>\n      <th>subject</th>\n      <th>date</th>\n    </tr>\n  </thead>\n  <tbody>\n    <tr>\n      <th>0</th>\n      <td>As U.S. budget fight looms, Republicans flip t...</td>\n      <td>WASHINGTON (Reuters) - The head of a conservat...</td>\n      <td>politicsNews</td>\n      <td>December 31, 2017</td>\n    </tr>\n    <tr>\n      <th>1</th>\n      <td>U.S. military to accept transgender recruits o...</td>\n      <td>WASHINGTON (Reuters) - Transgender people will...</td>\n      <td>politicsNews</td>\n      <td>December 29, 2017</td>\n    </tr>\n    <tr>\n      <th>2</th>\n      <td>Senior U.S. Republican senator: 'Let Mr. Muell...</td>\n      <td>WASHINGTON (Reuters) - The special counsel inv...</td>\n      <td>politicsNews</td>\n      <td>December 31, 2017</td>\n    </tr>\n    <tr>\n      <th>3</th>\n      <td>FBI Russia probe helped by Australian diplomat...</td>\n      <td>WASHINGTON (Reuters) - Trump campaign adviser ...</td>\n      <td>politicsNews</td>\n      <td>December 30, 2017</td>\n    </tr>\n    <tr>\n      <th>4</th>\n      <td>Trump wants Postal Service to charge 'much mor...</td>\n      <td>SEATTLE/WASHINGTON (Reuters) - President Donal...</td>\n      <td>politicsNews</td>\n      <td>December 29, 2017</td>\n    </tr>\n  </tbody>\n</table>\n</div>"
     },
     "metadata": {}
    }
   ],
   "execution_count": 46
  },
  {
   "cell_type": "code",
   "source": "df_fake[\"class\"] = 0\ndf_true[\"class\"] = 1",
   "metadata": {
    "trusted": true,
    "execution": {
     "iopub.status.busy": "2025-02-10T15:19:40.408153Z",
     "iopub.execute_input": "2025-02-10T15:19:40.408545Z",
     "iopub.status.idle": "2025-02-10T15:19:40.415901Z",
     "shell.execute_reply.started": "2025-02-10T15:19:40.408513Z",
     "shell.execute_reply": "2025-02-10T15:19:40.414336Z"
    }
   },
   "outputs": [],
   "execution_count": 47
  },
  {
   "cell_type": "code",
   "source": "df_fake.head()",
   "metadata": {
    "trusted": true,
    "execution": {
     "iopub.status.busy": "2025-02-10T15:19:42.486915Z",
     "iopub.execute_input": "2025-02-10T15:19:42.487258Z",
     "iopub.status.idle": "2025-02-10T15:19:42.498314Z",
     "shell.execute_reply.started": "2025-02-10T15:19:42.487230Z",
     "shell.execute_reply": "2025-02-10T15:19:42.497056Z"
    }
   },
   "outputs": [
    {
     "execution_count": 48,
     "output_type": "execute_result",
     "data": {
      "text/plain": "                                               title  \\\n0   Donald Trump Sends Out Embarrassing New Year’...   \n1   Drunk Bragging Trump Staffer Started Russian ...   \n2   Sheriff David Clarke Becomes An Internet Joke...   \n3   Trump Is So Obsessed He Even Has Obama’s Name...   \n4   Pope Francis Just Called Out Donald Trump Dur...   \n\n                                                text subject  \\\n0  Donald Trump just couldn t wish all Americans ...    News   \n1  House Intelligence Committee Chairman Devin Nu...    News   \n2  On Friday, it was revealed that former Milwauk...    News   \n3  On Christmas day, Donald Trump announced that ...    News   \n4  Pope Francis used his annual Christmas Day mes...    News   \n\n                date  class  \n0  December 31, 2017      0  \n1  December 31, 2017      0  \n2  December 30, 2017      0  \n3  December 29, 2017      0  \n4  December 25, 2017      0  ",
      "text/html": "<div>\n<style scoped>\n    .dataframe tbody tr th:only-of-type {\n        vertical-align: middle;\n    }\n\n    .dataframe tbody tr th {\n        vertical-align: top;\n    }\n\n    .dataframe thead th {\n        text-align: right;\n    }\n</style>\n<table border=\"1\" class=\"dataframe\">\n  <thead>\n    <tr style=\"text-align: right;\">\n      <th></th>\n      <th>title</th>\n      <th>text</th>\n      <th>subject</th>\n      <th>date</th>\n      <th>class</th>\n    </tr>\n  </thead>\n  <tbody>\n    <tr>\n      <th>0</th>\n      <td>Donald Trump Sends Out Embarrassing New Year’...</td>\n      <td>Donald Trump just couldn t wish all Americans ...</td>\n      <td>News</td>\n      <td>December 31, 2017</td>\n      <td>0</td>\n    </tr>\n    <tr>\n      <th>1</th>\n      <td>Drunk Bragging Trump Staffer Started Russian ...</td>\n      <td>House Intelligence Committee Chairman Devin Nu...</td>\n      <td>News</td>\n      <td>December 31, 2017</td>\n      <td>0</td>\n    </tr>\n    <tr>\n      <th>2</th>\n      <td>Sheriff David Clarke Becomes An Internet Joke...</td>\n      <td>On Friday, it was revealed that former Milwauk...</td>\n      <td>News</td>\n      <td>December 30, 2017</td>\n      <td>0</td>\n    </tr>\n    <tr>\n      <th>3</th>\n      <td>Trump Is So Obsessed He Even Has Obama’s Name...</td>\n      <td>On Christmas day, Donald Trump announced that ...</td>\n      <td>News</td>\n      <td>December 29, 2017</td>\n      <td>0</td>\n    </tr>\n    <tr>\n      <th>4</th>\n      <td>Pope Francis Just Called Out Donald Trump Dur...</td>\n      <td>Pope Francis used his annual Christmas Day mes...</td>\n      <td>News</td>\n      <td>December 25, 2017</td>\n      <td>0</td>\n    </tr>\n  </tbody>\n</table>\n</div>"
     },
     "metadata": {}
    }
   ],
   "execution_count": 48
  },
  {
   "cell_type": "code",
   "source": "df_true.head()",
   "metadata": {
    "trusted": true,
    "execution": {
     "iopub.status.busy": "2025-02-10T15:19:46.126567Z",
     "iopub.execute_input": "2025-02-10T15:19:46.126993Z",
     "iopub.status.idle": "2025-02-10T15:19:46.138172Z",
     "shell.execute_reply.started": "2025-02-10T15:19:46.126962Z",
     "shell.execute_reply": "2025-02-10T15:19:46.136891Z"
    }
   },
   "outputs": [
    {
     "execution_count": 49,
     "output_type": "execute_result",
     "data": {
      "text/plain": "                                               title  \\\n0  As U.S. budget fight looms, Republicans flip t...   \n1  U.S. military to accept transgender recruits o...   \n2  Senior U.S. Republican senator: 'Let Mr. Muell...   \n3  FBI Russia probe helped by Australian diplomat...   \n4  Trump wants Postal Service to charge 'much mor...   \n\n                                                text       subject  \\\n0  WASHINGTON (Reuters) - The head of a conservat...  politicsNews   \n1  WASHINGTON (Reuters) - Transgender people will...  politicsNews   \n2  WASHINGTON (Reuters) - The special counsel inv...  politicsNews   \n3  WASHINGTON (Reuters) - Trump campaign adviser ...  politicsNews   \n4  SEATTLE/WASHINGTON (Reuters) - President Donal...  politicsNews   \n\n                 date  class  \n0  December 31, 2017       1  \n1  December 29, 2017       1  \n2  December 31, 2017       1  \n3  December 30, 2017       1  \n4  December 29, 2017       1  ",
      "text/html": "<div>\n<style scoped>\n    .dataframe tbody tr th:only-of-type {\n        vertical-align: middle;\n    }\n\n    .dataframe tbody tr th {\n        vertical-align: top;\n    }\n\n    .dataframe thead th {\n        text-align: right;\n    }\n</style>\n<table border=\"1\" class=\"dataframe\">\n  <thead>\n    <tr style=\"text-align: right;\">\n      <th></th>\n      <th>title</th>\n      <th>text</th>\n      <th>subject</th>\n      <th>date</th>\n      <th>class</th>\n    </tr>\n  </thead>\n  <tbody>\n    <tr>\n      <th>0</th>\n      <td>As U.S. budget fight looms, Republicans flip t...</td>\n      <td>WASHINGTON (Reuters) - The head of a conservat...</td>\n      <td>politicsNews</td>\n      <td>December 31, 2017</td>\n      <td>1</td>\n    </tr>\n    <tr>\n      <th>1</th>\n      <td>U.S. military to accept transgender recruits o...</td>\n      <td>WASHINGTON (Reuters) - Transgender people will...</td>\n      <td>politicsNews</td>\n      <td>December 29, 2017</td>\n      <td>1</td>\n    </tr>\n    <tr>\n      <th>2</th>\n      <td>Senior U.S. Republican senator: 'Let Mr. Muell...</td>\n      <td>WASHINGTON (Reuters) - The special counsel inv...</td>\n      <td>politicsNews</td>\n      <td>December 31, 2017</td>\n      <td>1</td>\n    </tr>\n    <tr>\n      <th>3</th>\n      <td>FBI Russia probe helped by Australian diplomat...</td>\n      <td>WASHINGTON (Reuters) - Trump campaign adviser ...</td>\n      <td>politicsNews</td>\n      <td>December 30, 2017</td>\n      <td>1</td>\n    </tr>\n    <tr>\n      <th>4</th>\n      <td>Trump wants Postal Service to charge 'much mor...</td>\n      <td>SEATTLE/WASHINGTON (Reuters) - President Donal...</td>\n      <td>politicsNews</td>\n      <td>December 29, 2017</td>\n      <td>1</td>\n    </tr>\n  </tbody>\n</table>\n</div>"
     },
     "metadata": {}
    }
   ],
   "execution_count": 49
  },
  {
   "cell_type": "code",
   "source": "df_fake.shape, df_true.shape",
   "metadata": {
    "trusted": true,
    "execution": {
     "iopub.status.busy": "2025-02-10T15:19:49.883648Z",
     "iopub.execute_input": "2025-02-10T15:19:49.884009Z",
     "iopub.status.idle": "2025-02-10T15:19:49.890738Z",
     "shell.execute_reply.started": "2025-02-10T15:19:49.883980Z",
     "shell.execute_reply": "2025-02-10T15:19:49.889489Z"
    }
   },
   "outputs": [
    {
     "execution_count": 50,
     "output_type": "execute_result",
     "data": {
      "text/plain": "((23481, 5), (21417, 5))"
     },
     "metadata": {}
    }
   ],
   "execution_count": 50
  },
  {
   "cell_type": "code",
   "source": "# Removing last 10 rows for manual testing\ndf_fake_manual_testing = df_fake.tail(10)\nfor i in range(23480,23470,-1):\n    df_fake.drop([i], axis = 0, inplace = True)\n\n\ndf_true_manual_testing = df_true.tail(10)\nfor i in range(21416,21406,-1):\n    df_true.drop([i], axis = 0, inplace = True)",
   "metadata": {
    "trusted": true,
    "execution": {
     "iopub.status.busy": "2025-02-10T15:19:53.049416Z",
     "iopub.execute_input": "2025-02-10T15:19:53.049843Z",
     "iopub.status.idle": "2025-02-10T15:19:53.114814Z",
     "shell.execute_reply.started": "2025-02-10T15:19:53.049811Z",
     "shell.execute_reply": "2025-02-10T15:19:53.113836Z"
    }
   },
   "outputs": [],
   "execution_count": 51
  },
  {
   "cell_type": "code",
   "source": "df_fake.shape, df_true.shape",
   "metadata": {
    "trusted": true,
    "execution": {
     "iopub.status.busy": "2025-02-10T15:19:56.510399Z",
     "iopub.execute_input": "2025-02-10T15:19:56.510738Z",
     "iopub.status.idle": "2025-02-10T15:19:56.518554Z",
     "shell.execute_reply.started": "2025-02-10T15:19:56.510713Z",
     "shell.execute_reply": "2025-02-10T15:19:56.517149Z"
    }
   },
   "outputs": [
    {
     "execution_count": 52,
     "output_type": "execute_result",
     "data": {
      "text/plain": "((23471, 5), (21407, 5))"
     },
     "metadata": {}
    }
   ],
   "execution_count": 52
  },
  {
   "cell_type": "code",
   "source": "df_fake_manual_testing[\"class\"] = 0\ndf_true_manual_testing[\"class\"] = 1",
   "metadata": {
    "trusted": true,
    "execution": {
     "iopub.status.busy": "2025-02-10T15:20:00.609971Z",
     "iopub.execute_input": "2025-02-10T15:20:00.610319Z",
     "iopub.status.idle": "2025-02-10T15:20:00.616552Z",
     "shell.execute_reply.started": "2025-02-10T15:20:00.610293Z",
     "shell.execute_reply": "2025-02-10T15:20:00.615136Z"
    }
   },
   "outputs": [
    {
     "name": "stderr",
     "text": "<ipython-input-53-3aaf8ec2aad1>:1: SettingWithCopyWarning: \nA value is trying to be set on a copy of a slice from a DataFrame.\nTry using .loc[row_indexer,col_indexer] = value instead\n\nSee the caveats in the documentation: https://pandas.pydata.org/pandas-docs/stable/user_guide/indexing.html#returning-a-view-versus-a-copy\n  df_fake_manual_testing[\"class\"] = 0\n<ipython-input-53-3aaf8ec2aad1>:2: SettingWithCopyWarning: \nA value is trying to be set on a copy of a slice from a DataFrame.\nTry using .loc[row_indexer,col_indexer] = value instead\n\nSee the caveats in the documentation: https://pandas.pydata.org/pandas-docs/stable/user_guide/indexing.html#returning-a-view-versus-a-copy\n  df_true_manual_testing[\"class\"] = 1\n",
     "output_type": "stream"
    }
   ],
   "execution_count": 53
  },
  {
   "cell_type": "code",
   "source": "df_fake_manual_testing.head(10)",
   "metadata": {
    "trusted": true,
    "execution": {
     "iopub.status.busy": "2025-02-10T15:20:04.335752Z",
     "iopub.execute_input": "2025-02-10T15:20:04.336161Z",
     "iopub.status.idle": "2025-02-10T15:20:04.348860Z",
     "shell.execute_reply.started": "2025-02-10T15:20:04.336131Z",
     "shell.execute_reply": "2025-02-10T15:20:04.347454Z"
    }
   },
   "outputs": [
    {
     "execution_count": 54,
     "output_type": "execute_result",
     "data": {
      "text/plain": "                                                   title  \\\n23471  Seven Iranians freed in the prisoner swap have...   \n23472                      #Hashtag Hell & The Fake Left   \n23473  Astroturfing: Journalist Reveals Brainwashing ...   \n23474          The New American Century: An Era of Fraud   \n23475  Hillary Clinton: ‘Israel First’ (and no peace ...   \n23476  McPain: John McCain Furious That Iran Treated ...   \n23477  JUSTICE? Yahoo Settles E-mail Privacy Class-ac...   \n23478  Sunnistan: US and Allied ‘Safe Zone’ Plan to T...   \n23479  How to Blow $700 Million: Al Jazeera America F...   \n23480  10 U.S. Navy Sailors Held by Iranian Military ...   \n\n                                                    text      subject  \\\n23471  21st Century Wire says This week, the historic...  Middle-east   \n23472   By Dady Chery and Gilbert MercierAll writers ...  Middle-east   \n23473  Vic Bishop Waking TimesOur reality is carefull...  Middle-east   \n23474  Paul Craig RobertsIn the last years of the 20t...  Middle-east   \n23475  Robert Fantina CounterpunchAlthough the United...  Middle-east   \n23476  21st Century Wire says As 21WIRE reported earl...  Middle-east   \n23477  21st Century Wire says It s a familiar theme. ...  Middle-east   \n23478  Patrick Henningsen  21st Century WireRemember ...  Middle-east   \n23479  21st Century Wire says Al Jazeera America will...  Middle-east   \n23480  21st Century Wire says As 21WIRE predicted in ...  Middle-east   \n\n                   date  class  \n23471  January 20, 2016      0  \n23472  January 19, 2016      0  \n23473  January 19, 2016      0  \n23474  January 19, 2016      0  \n23475  January 18, 2016      0  \n23476  January 16, 2016      0  \n23477  January 16, 2016      0  \n23478  January 15, 2016      0  \n23479  January 14, 2016      0  \n23480  January 12, 2016      0  ",
      "text/html": "<div>\n<style scoped>\n    .dataframe tbody tr th:only-of-type {\n        vertical-align: middle;\n    }\n\n    .dataframe tbody tr th {\n        vertical-align: top;\n    }\n\n    .dataframe thead th {\n        text-align: right;\n    }\n</style>\n<table border=\"1\" class=\"dataframe\">\n  <thead>\n    <tr style=\"text-align: right;\">\n      <th></th>\n      <th>title</th>\n      <th>text</th>\n      <th>subject</th>\n      <th>date</th>\n      <th>class</th>\n    </tr>\n  </thead>\n  <tbody>\n    <tr>\n      <th>23471</th>\n      <td>Seven Iranians freed in the prisoner swap have...</td>\n      <td>21st Century Wire says This week, the historic...</td>\n      <td>Middle-east</td>\n      <td>January 20, 2016</td>\n      <td>0</td>\n    </tr>\n    <tr>\n      <th>23472</th>\n      <td>#Hashtag Hell &amp; The Fake Left</td>\n      <td>By Dady Chery and Gilbert MercierAll writers ...</td>\n      <td>Middle-east</td>\n      <td>January 19, 2016</td>\n      <td>0</td>\n    </tr>\n    <tr>\n      <th>23473</th>\n      <td>Astroturfing: Journalist Reveals Brainwashing ...</td>\n      <td>Vic Bishop Waking TimesOur reality is carefull...</td>\n      <td>Middle-east</td>\n      <td>January 19, 2016</td>\n      <td>0</td>\n    </tr>\n    <tr>\n      <th>23474</th>\n      <td>The New American Century: An Era of Fraud</td>\n      <td>Paul Craig RobertsIn the last years of the 20t...</td>\n      <td>Middle-east</td>\n      <td>January 19, 2016</td>\n      <td>0</td>\n    </tr>\n    <tr>\n      <th>23475</th>\n      <td>Hillary Clinton: ‘Israel First’ (and no peace ...</td>\n      <td>Robert Fantina CounterpunchAlthough the United...</td>\n      <td>Middle-east</td>\n      <td>January 18, 2016</td>\n      <td>0</td>\n    </tr>\n    <tr>\n      <th>23476</th>\n      <td>McPain: John McCain Furious That Iran Treated ...</td>\n      <td>21st Century Wire says As 21WIRE reported earl...</td>\n      <td>Middle-east</td>\n      <td>January 16, 2016</td>\n      <td>0</td>\n    </tr>\n    <tr>\n      <th>23477</th>\n      <td>JUSTICE? Yahoo Settles E-mail Privacy Class-ac...</td>\n      <td>21st Century Wire says It s a familiar theme. ...</td>\n      <td>Middle-east</td>\n      <td>January 16, 2016</td>\n      <td>0</td>\n    </tr>\n    <tr>\n      <th>23478</th>\n      <td>Sunnistan: US and Allied ‘Safe Zone’ Plan to T...</td>\n      <td>Patrick Henningsen  21st Century WireRemember ...</td>\n      <td>Middle-east</td>\n      <td>January 15, 2016</td>\n      <td>0</td>\n    </tr>\n    <tr>\n      <th>23479</th>\n      <td>How to Blow $700 Million: Al Jazeera America F...</td>\n      <td>21st Century Wire says Al Jazeera America will...</td>\n      <td>Middle-east</td>\n      <td>January 14, 2016</td>\n      <td>0</td>\n    </tr>\n    <tr>\n      <th>23480</th>\n      <td>10 U.S. Navy Sailors Held by Iranian Military ...</td>\n      <td>21st Century Wire says As 21WIRE predicted in ...</td>\n      <td>Middle-east</td>\n      <td>January 12, 2016</td>\n      <td>0</td>\n    </tr>\n  </tbody>\n</table>\n</div>"
     },
     "metadata": {}
    }
   ],
   "execution_count": 54
  },
  {
   "cell_type": "code",
   "source": "df_true_manual_testing.head(10)",
   "metadata": {
    "trusted": true,
    "execution": {
     "iopub.status.busy": "2025-02-10T15:20:06.788595Z",
     "iopub.execute_input": "2025-02-10T15:20:06.788974Z",
     "iopub.status.idle": "2025-02-10T15:20:06.800191Z",
     "shell.execute_reply.started": "2025-02-10T15:20:06.788947Z",
     "shell.execute_reply": "2025-02-10T15:20:06.798795Z"
    }
   },
   "outputs": [
    {
     "execution_count": 55,
     "output_type": "execute_result",
     "data": {
      "text/plain": "                                                   title  \\\n21407  Mata Pires, owner of embattled Brazil builder ...   \n21408  U.S., North Korea clash at U.N. forum over nuc...   \n21409  U.S., North Korea clash at U.N. arms forum on ...   \n21410  Headless torso could belong to submarine journ...   \n21411  North Korea shipments to Syria chemical arms a...   \n21412  'Fully committed' NATO backs new U.S. approach...   \n21413  LexisNexis withdrew two products from Chinese ...   \n21414  Minsk cultural hub becomes haven from authorities   \n21415  Vatican upbeat on possibility of Pope Francis ...   \n21416  Indonesia to buy $1.14 billion worth of Russia...   \n\n                                                    text    subject  \\\n21407  SAO PAULO (Reuters) - Cesar Mata Pires, the ow...  worldnews   \n21408  GENEVA (Reuters) - North Korea and the United ...  worldnews   \n21409  GENEVA (Reuters) - North Korea and the United ...  worldnews   \n21410  COPENHAGEN (Reuters) - Danish police said on T...  worldnews   \n21411  UNITED NATIONS (Reuters) - Two North Korean sh...  worldnews   \n21412  BRUSSELS (Reuters) - NATO allies on Tuesday we...  worldnews   \n21413  LONDON (Reuters) - LexisNexis, a provider of l...  worldnews   \n21414  MINSK (Reuters) - In the shadow of disused Sov...  worldnews   \n21415  MOSCOW (Reuters) - Vatican Secretary of State ...  worldnews   \n21416  JAKARTA (Reuters) - Indonesia will buy 11 Sukh...  worldnews   \n\n                   date  class  \n21407  August 22, 2017       1  \n21408  August 22, 2017       1  \n21409  August 22, 2017       1  \n21410  August 22, 2017       1  \n21411  August 21, 2017       1  \n21412  August 22, 2017       1  \n21413  August 22, 2017       1  \n21414  August 22, 2017       1  \n21415  August 22, 2017       1  \n21416  August 22, 2017       1  ",
      "text/html": "<div>\n<style scoped>\n    .dataframe tbody tr th:only-of-type {\n        vertical-align: middle;\n    }\n\n    .dataframe tbody tr th {\n        vertical-align: top;\n    }\n\n    .dataframe thead th {\n        text-align: right;\n    }\n</style>\n<table border=\"1\" class=\"dataframe\">\n  <thead>\n    <tr style=\"text-align: right;\">\n      <th></th>\n      <th>title</th>\n      <th>text</th>\n      <th>subject</th>\n      <th>date</th>\n      <th>class</th>\n    </tr>\n  </thead>\n  <tbody>\n    <tr>\n      <th>21407</th>\n      <td>Mata Pires, owner of embattled Brazil builder ...</td>\n      <td>SAO PAULO (Reuters) - Cesar Mata Pires, the ow...</td>\n      <td>worldnews</td>\n      <td>August 22, 2017</td>\n      <td>1</td>\n    </tr>\n    <tr>\n      <th>21408</th>\n      <td>U.S., North Korea clash at U.N. forum over nuc...</td>\n      <td>GENEVA (Reuters) - North Korea and the United ...</td>\n      <td>worldnews</td>\n      <td>August 22, 2017</td>\n      <td>1</td>\n    </tr>\n    <tr>\n      <th>21409</th>\n      <td>U.S., North Korea clash at U.N. arms forum on ...</td>\n      <td>GENEVA (Reuters) - North Korea and the United ...</td>\n      <td>worldnews</td>\n      <td>August 22, 2017</td>\n      <td>1</td>\n    </tr>\n    <tr>\n      <th>21410</th>\n      <td>Headless torso could belong to submarine journ...</td>\n      <td>COPENHAGEN (Reuters) - Danish police said on T...</td>\n      <td>worldnews</td>\n      <td>August 22, 2017</td>\n      <td>1</td>\n    </tr>\n    <tr>\n      <th>21411</th>\n      <td>North Korea shipments to Syria chemical arms a...</td>\n      <td>UNITED NATIONS (Reuters) - Two North Korean sh...</td>\n      <td>worldnews</td>\n      <td>August 21, 2017</td>\n      <td>1</td>\n    </tr>\n    <tr>\n      <th>21412</th>\n      <td>'Fully committed' NATO backs new U.S. approach...</td>\n      <td>BRUSSELS (Reuters) - NATO allies on Tuesday we...</td>\n      <td>worldnews</td>\n      <td>August 22, 2017</td>\n      <td>1</td>\n    </tr>\n    <tr>\n      <th>21413</th>\n      <td>LexisNexis withdrew two products from Chinese ...</td>\n      <td>LONDON (Reuters) - LexisNexis, a provider of l...</td>\n      <td>worldnews</td>\n      <td>August 22, 2017</td>\n      <td>1</td>\n    </tr>\n    <tr>\n      <th>21414</th>\n      <td>Minsk cultural hub becomes haven from authorities</td>\n      <td>MINSK (Reuters) - In the shadow of disused Sov...</td>\n      <td>worldnews</td>\n      <td>August 22, 2017</td>\n      <td>1</td>\n    </tr>\n    <tr>\n      <th>21415</th>\n      <td>Vatican upbeat on possibility of Pope Francis ...</td>\n      <td>MOSCOW (Reuters) - Vatican Secretary of State ...</td>\n      <td>worldnews</td>\n      <td>August 22, 2017</td>\n      <td>1</td>\n    </tr>\n    <tr>\n      <th>21416</th>\n      <td>Indonesia to buy $1.14 billion worth of Russia...</td>\n      <td>JAKARTA (Reuters) - Indonesia will buy 11 Sukh...</td>\n      <td>worldnews</td>\n      <td>August 22, 2017</td>\n      <td>1</td>\n    </tr>\n  </tbody>\n</table>\n</div>"
     },
     "metadata": {}
    }
   ],
   "execution_count": 55
  },
  {
   "cell_type": "code",
   "source": "df_manual_testing = pd.concat([df_fake_manual_testing,df_true_manual_testing], axis = 0)\n\ndf_manual_testing.to_csv(\"/kaggle/working/manual_testing.csv\")",
   "metadata": {
    "trusted": true,
    "execution": {
     "iopub.status.busy": "2025-02-10T15:20:12.695470Z",
     "iopub.execute_input": "2025-02-10T15:20:12.695802Z",
     "iopub.status.idle": "2025-02-10T15:20:12.705255Z",
     "shell.execute_reply.started": "2025-02-10T15:20:12.695776Z",
     "shell.execute_reply": "2025-02-10T15:20:12.704154Z"
    }
   },
   "outputs": [],
   "execution_count": 56
  },
  {
   "cell_type": "code",
   "source": "#df_manual_testing = df_manual_testing.sample(frac = 1)",
   "metadata": {
    "trusted": true
   },
   "outputs": [],
   "execution_count": null
  },
  {
   "cell_type": "markdown",
   "source": "Merging True and Fake Dataframes\n",
   "metadata": {}
  },
  {
   "cell_type": "code",
   "source": "df_merge = pd.concat([df_fake, df_true], axis =0 )\ndf_merge.head(10)",
   "metadata": {
    "trusted": true,
    "execution": {
     "iopub.status.busy": "2025-02-10T15:20:17.534543Z",
     "iopub.execute_input": "2025-02-10T15:20:17.534931Z",
     "iopub.status.idle": "2025-02-10T15:20:17.553810Z",
     "shell.execute_reply.started": "2025-02-10T15:20:17.534861Z",
     "shell.execute_reply": "2025-02-10T15:20:17.552228Z"
    }
   },
   "outputs": [
    {
     "execution_count": 57,
     "output_type": "execute_result",
     "data": {
      "text/plain": "                                               title  \\\n0   Donald Trump Sends Out Embarrassing New Year’...   \n1   Drunk Bragging Trump Staffer Started Russian ...   \n2   Sheriff David Clarke Becomes An Internet Joke...   \n3   Trump Is So Obsessed He Even Has Obama’s Name...   \n4   Pope Francis Just Called Out Donald Trump Dur...   \n5   Racist Alabama Cops Brutalize Black Boy While...   \n6   Fresh Off The Golf Course, Trump Lashes Out A...   \n7   Trump Said Some INSANELY Racist Stuff Inside ...   \n8   Former CIA Director Slams Trump Over UN Bully...   \n9   WATCH: Brand-New Pro-Trump Ad Features So Muc...   \n\n                                                text subject  \\\n0  Donald Trump just couldn t wish all Americans ...    News   \n1  House Intelligence Committee Chairman Devin Nu...    News   \n2  On Friday, it was revealed that former Milwauk...    News   \n3  On Christmas day, Donald Trump announced that ...    News   \n4  Pope Francis used his annual Christmas Day mes...    News   \n5  The number of cases of cops brutalizing and ki...    News   \n6  Donald Trump spent a good portion of his day a...    News   \n7  In the wake of yet another court decision that...    News   \n8  Many people have raised the alarm regarding th...    News   \n9  Just when you might have thought we d get a br...    News   \n\n                date  class  \n0  December 31, 2017      0  \n1  December 31, 2017      0  \n2  December 30, 2017      0  \n3  December 29, 2017      0  \n4  December 25, 2017      0  \n5  December 25, 2017      0  \n6  December 23, 2017      0  \n7  December 23, 2017      0  \n8  December 22, 2017      0  \n9  December 21, 2017      0  ",
      "text/html": "<div>\n<style scoped>\n    .dataframe tbody tr th:only-of-type {\n        vertical-align: middle;\n    }\n\n    .dataframe tbody tr th {\n        vertical-align: top;\n    }\n\n    .dataframe thead th {\n        text-align: right;\n    }\n</style>\n<table border=\"1\" class=\"dataframe\">\n  <thead>\n    <tr style=\"text-align: right;\">\n      <th></th>\n      <th>title</th>\n      <th>text</th>\n      <th>subject</th>\n      <th>date</th>\n      <th>class</th>\n    </tr>\n  </thead>\n  <tbody>\n    <tr>\n      <th>0</th>\n      <td>Donald Trump Sends Out Embarrassing New Year’...</td>\n      <td>Donald Trump just couldn t wish all Americans ...</td>\n      <td>News</td>\n      <td>December 31, 2017</td>\n      <td>0</td>\n    </tr>\n    <tr>\n      <th>1</th>\n      <td>Drunk Bragging Trump Staffer Started Russian ...</td>\n      <td>House Intelligence Committee Chairman Devin Nu...</td>\n      <td>News</td>\n      <td>December 31, 2017</td>\n      <td>0</td>\n    </tr>\n    <tr>\n      <th>2</th>\n      <td>Sheriff David Clarke Becomes An Internet Joke...</td>\n      <td>On Friday, it was revealed that former Milwauk...</td>\n      <td>News</td>\n      <td>December 30, 2017</td>\n      <td>0</td>\n    </tr>\n    <tr>\n      <th>3</th>\n      <td>Trump Is So Obsessed He Even Has Obama’s Name...</td>\n      <td>On Christmas day, Donald Trump announced that ...</td>\n      <td>News</td>\n      <td>December 29, 2017</td>\n      <td>0</td>\n    </tr>\n    <tr>\n      <th>4</th>\n      <td>Pope Francis Just Called Out Donald Trump Dur...</td>\n      <td>Pope Francis used his annual Christmas Day mes...</td>\n      <td>News</td>\n      <td>December 25, 2017</td>\n      <td>0</td>\n    </tr>\n    <tr>\n      <th>5</th>\n      <td>Racist Alabama Cops Brutalize Black Boy While...</td>\n      <td>The number of cases of cops brutalizing and ki...</td>\n      <td>News</td>\n      <td>December 25, 2017</td>\n      <td>0</td>\n    </tr>\n    <tr>\n      <th>6</th>\n      <td>Fresh Off The Golf Course, Trump Lashes Out A...</td>\n      <td>Donald Trump spent a good portion of his day a...</td>\n      <td>News</td>\n      <td>December 23, 2017</td>\n      <td>0</td>\n    </tr>\n    <tr>\n      <th>7</th>\n      <td>Trump Said Some INSANELY Racist Stuff Inside ...</td>\n      <td>In the wake of yet another court decision that...</td>\n      <td>News</td>\n      <td>December 23, 2017</td>\n      <td>0</td>\n    </tr>\n    <tr>\n      <th>8</th>\n      <td>Former CIA Director Slams Trump Over UN Bully...</td>\n      <td>Many people have raised the alarm regarding th...</td>\n      <td>News</td>\n      <td>December 22, 2017</td>\n      <td>0</td>\n    </tr>\n    <tr>\n      <th>9</th>\n      <td>WATCH: Brand-New Pro-Trump Ad Features So Muc...</td>\n      <td>Just when you might have thought we d get a br...</td>\n      <td>News</td>\n      <td>December 21, 2017</td>\n      <td>0</td>\n    </tr>\n  </tbody>\n</table>\n</div>"
     },
     "metadata": {}
    }
   ],
   "execution_count": 57
  },
  {
   "cell_type": "code",
   "source": "df_merge.columns",
   "metadata": {
    "trusted": true,
    "execution": {
     "iopub.status.busy": "2025-02-10T15:20:20.842992Z",
     "iopub.execute_input": "2025-02-10T15:20:20.843467Z",
     "iopub.status.idle": "2025-02-10T15:20:20.851846Z",
     "shell.execute_reply.started": "2025-02-10T15:20:20.843424Z",
     "shell.execute_reply": "2025-02-10T15:20:20.850479Z"
    }
   },
   "outputs": [
    {
     "execution_count": 58,
     "output_type": "execute_result",
     "data": {
      "text/plain": "Index(['title', 'text', 'subject', 'date', 'class'], dtype='object')"
     },
     "metadata": {}
    }
   ],
   "execution_count": 58
  },
  {
   "cell_type": "markdown",
   "source": "Removing columns which are not required",
   "metadata": {}
  },
  {
   "cell_type": "code",
   "source": "df = df_merge.drop([\"title\", \"subject\",\"date\"], axis = 1)",
   "metadata": {
    "trusted": true,
    "execution": {
     "iopub.status.busy": "2025-02-10T15:20:31.246579Z",
     "iopub.execute_input": "2025-02-10T15:20:31.247061Z",
     "iopub.status.idle": "2025-02-10T15:20:31.256778Z",
     "shell.execute_reply.started": "2025-02-10T15:20:31.247022Z",
     "shell.execute_reply": "2025-02-10T15:20:31.255644Z"
    }
   },
   "outputs": [],
   "execution_count": 60
  },
  {
   "cell_type": "code",
   "source": "df.isnull().sum()",
   "metadata": {
    "trusted": true,
    "execution": {
     "iopub.status.busy": "2025-02-10T15:20:41.044735Z",
     "iopub.execute_input": "2025-02-10T15:20:41.045116Z",
     "iopub.status.idle": "2025-02-10T15:20:41.061068Z",
     "shell.execute_reply.started": "2025-02-10T15:20:41.045089Z",
     "shell.execute_reply": "2025-02-10T15:20:41.059842Z"
    }
   },
   "outputs": [
    {
     "execution_count": 61,
     "output_type": "execute_result",
     "data": {
      "text/plain": "text     0\nclass    0\ndtype: int64"
     },
     "metadata": {}
    }
   ],
   "execution_count": 61
  },
  {
   "cell_type": "markdown",
   "source": "Random Shuffling the dataframe",
   "metadata": {}
  },
  {
   "cell_type": "code",
   "source": "df = df.sample(frac = 1)",
   "metadata": {
    "trusted": true,
    "execution": {
     "iopub.status.busy": "2025-02-10T15:22:05.791195Z",
     "iopub.execute_input": "2025-02-10T15:22:05.791574Z",
     "iopub.status.idle": "2025-02-10T15:22:05.804375Z",
     "shell.execute_reply.started": "2025-02-10T15:22:05.791543Z",
     "shell.execute_reply": "2025-02-10T15:22:05.803100Z"
    }
   },
   "outputs": [],
   "execution_count": 65
  },
  {
   "cell_type": "code",
   "source": "df.head()",
   "metadata": {
    "trusted": true,
    "execution": {
     "iopub.status.busy": "2025-02-10T15:22:08.311520Z",
     "iopub.execute_input": "2025-02-10T15:22:08.312093Z",
     "iopub.status.idle": "2025-02-10T15:22:08.323729Z",
     "shell.execute_reply.started": "2025-02-10T15:22:08.312047Z",
     "shell.execute_reply": "2025-02-10T15:22:08.322247Z"
    }
   },
   "outputs": [
    {
     "execution_count": 66,
     "output_type": "execute_result",
     "data": {
      "text/plain": "                                                    text  class\n19222  WASHINGTON   Shocking video has emerged on soc...      0\n9091   Friday on MSNBC, climate activist Bill Nye war...      0\n754    (Reuters) - Donald Trump’s nominee to head the...      1\n12191  Hillary Clinton on Thursday decried the spread...      0\n1594   SHANGHAI (Reuters) - China said on Saturday it...      1",
      "text/html": "<div>\n<style scoped>\n    .dataframe tbody tr th:only-of-type {\n        vertical-align: middle;\n    }\n\n    .dataframe tbody tr th {\n        vertical-align: top;\n    }\n\n    .dataframe thead th {\n        text-align: right;\n    }\n</style>\n<table border=\"1\" class=\"dataframe\">\n  <thead>\n    <tr style=\"text-align: right;\">\n      <th></th>\n      <th>text</th>\n      <th>class</th>\n    </tr>\n  </thead>\n  <tbody>\n    <tr>\n      <th>19222</th>\n      <td>WASHINGTON   Shocking video has emerged on soc...</td>\n      <td>0</td>\n    </tr>\n    <tr>\n      <th>9091</th>\n      <td>Friday on MSNBC, climate activist Bill Nye war...</td>\n      <td>0</td>\n    </tr>\n    <tr>\n      <th>754</th>\n      <td>(Reuters) - Donald Trump’s nominee to head the...</td>\n      <td>1</td>\n    </tr>\n    <tr>\n      <th>12191</th>\n      <td>Hillary Clinton on Thursday decried the spread...</td>\n      <td>0</td>\n    </tr>\n    <tr>\n      <th>1594</th>\n      <td>SHANGHAI (Reuters) - China said on Saturday it...</td>\n      <td>1</td>\n    </tr>\n  </tbody>\n</table>\n</div>"
     },
     "metadata": {}
    }
   ],
   "execution_count": 66
  },
  {
   "cell_type": "code",
   "source": "df.reset_index(inplace = True)\ndf.drop([\"index\"], axis = 1, inplace = True)",
   "metadata": {
    "trusted": true,
    "execution": {
     "iopub.status.busy": "2025-02-10T15:22:13.595410Z",
     "iopub.execute_input": "2025-02-10T15:22:13.595802Z",
     "iopub.status.idle": "2025-02-10T15:22:13.605755Z",
     "shell.execute_reply.started": "2025-02-10T15:22:13.595768Z",
     "shell.execute_reply": "2025-02-10T15:22:13.604209Z"
    }
   },
   "outputs": [],
   "execution_count": 67
  },
  {
   "cell_type": "code",
   "source": "df.head(20)",
   "metadata": {
    "trusted": true,
    "execution": {
     "iopub.status.busy": "2025-02-10T15:22:19.729441Z",
     "iopub.execute_input": "2025-02-10T15:22:19.729807Z",
     "iopub.status.idle": "2025-02-10T15:22:19.740821Z",
     "shell.execute_reply.started": "2025-02-10T15:22:19.729778Z",
     "shell.execute_reply": "2025-02-10T15:22:19.739236Z"
    }
   },
   "outputs": [
    {
     "execution_count": 68,
     "output_type": "execute_result",
     "data": {
      "text/plain": "                                                 text  class\n0   WASHINGTON   Shocking video has emerged on soc...      0\n1   Friday on MSNBC, climate activist Bill Nye war...      0\n2   (Reuters) - Donald Trump’s nominee to head the...      1\n3   Hillary Clinton on Thursday decried the spread...      0\n4   SHANGHAI (Reuters) - China said on Saturday it...      1\n5   (Reuters) - A Republican tax bill unveiled on ...      1\n6   TOKYO (Reuters) - Japan s government approved ...      1\n7    In the months and even weeks leading up the 2...      0\n8   Very few of Donald Trump s fans are more blind...      0\n9   College campuses are one of the places where f...      0\n10  (Reuters) - A group of lawmakers is calling on...      1\n11  BRIGHTON, England (Reuters) - Britain s opposi...      1\n12  Every American should be demanding answers abo...      0\n13  ABUJA (Reuters) - The United States has formal...      1\n14  WASHINGTON (Reuters) - President-elect Donald ...      1\n15  Hmmm Ever wonder why the left fears Trump so m...      0\n16  HELSINKI (Reuters) - Finnish President Sauli N...      1\n17  MADRID (Reuters) - Spain s state prosecutor on...      1\n18  Musicians tend to be very left leaning. Unless...      0\n19  WASHINGTON/LONDON (Reuters) - Republican presi...      1",
      "text/html": "<div>\n<style scoped>\n    .dataframe tbody tr th:only-of-type {\n        vertical-align: middle;\n    }\n\n    .dataframe tbody tr th {\n        vertical-align: top;\n    }\n\n    .dataframe thead th {\n        text-align: right;\n    }\n</style>\n<table border=\"1\" class=\"dataframe\">\n  <thead>\n    <tr style=\"text-align: right;\">\n      <th></th>\n      <th>text</th>\n      <th>class</th>\n    </tr>\n  </thead>\n  <tbody>\n    <tr>\n      <th>0</th>\n      <td>WASHINGTON   Shocking video has emerged on soc...</td>\n      <td>0</td>\n    </tr>\n    <tr>\n      <th>1</th>\n      <td>Friday on MSNBC, climate activist Bill Nye war...</td>\n      <td>0</td>\n    </tr>\n    <tr>\n      <th>2</th>\n      <td>(Reuters) - Donald Trump’s nominee to head the...</td>\n      <td>1</td>\n    </tr>\n    <tr>\n      <th>3</th>\n      <td>Hillary Clinton on Thursday decried the spread...</td>\n      <td>0</td>\n    </tr>\n    <tr>\n      <th>4</th>\n      <td>SHANGHAI (Reuters) - China said on Saturday it...</td>\n      <td>1</td>\n    </tr>\n    <tr>\n      <th>5</th>\n      <td>(Reuters) - A Republican tax bill unveiled on ...</td>\n      <td>1</td>\n    </tr>\n    <tr>\n      <th>6</th>\n      <td>TOKYO (Reuters) - Japan s government approved ...</td>\n      <td>1</td>\n    </tr>\n    <tr>\n      <th>7</th>\n      <td>In the months and even weeks leading up the 2...</td>\n      <td>0</td>\n    </tr>\n    <tr>\n      <th>8</th>\n      <td>Very few of Donald Trump s fans are more blind...</td>\n      <td>0</td>\n    </tr>\n    <tr>\n      <th>9</th>\n      <td>College campuses are one of the places where f...</td>\n      <td>0</td>\n    </tr>\n    <tr>\n      <th>10</th>\n      <td>(Reuters) - A group of lawmakers is calling on...</td>\n      <td>1</td>\n    </tr>\n    <tr>\n      <th>11</th>\n      <td>BRIGHTON, England (Reuters) - Britain s opposi...</td>\n      <td>1</td>\n    </tr>\n    <tr>\n      <th>12</th>\n      <td>Every American should be demanding answers abo...</td>\n      <td>0</td>\n    </tr>\n    <tr>\n      <th>13</th>\n      <td>ABUJA (Reuters) - The United States has formal...</td>\n      <td>1</td>\n    </tr>\n    <tr>\n      <th>14</th>\n      <td>WASHINGTON (Reuters) - President-elect Donald ...</td>\n      <td>1</td>\n    </tr>\n    <tr>\n      <th>15</th>\n      <td>Hmmm Ever wonder why the left fears Trump so m...</td>\n      <td>0</td>\n    </tr>\n    <tr>\n      <th>16</th>\n      <td>HELSINKI (Reuters) - Finnish President Sauli N...</td>\n      <td>1</td>\n    </tr>\n    <tr>\n      <th>17</th>\n      <td>MADRID (Reuters) - Spain s state prosecutor on...</td>\n      <td>1</td>\n    </tr>\n    <tr>\n      <th>18</th>\n      <td>Musicians tend to be very left leaning. Unless...</td>\n      <td>0</td>\n    </tr>\n    <tr>\n      <th>19</th>\n      <td>WASHINGTON/LONDON (Reuters) - Republican presi...</td>\n      <td>1</td>\n    </tr>\n  </tbody>\n</table>\n</div>"
     },
     "metadata": {}
    }
   ],
   "execution_count": 68
  },
  {
   "cell_type": "code",
   "source": "df.columns",
   "metadata": {
    "trusted": true,
    "execution": {
     "iopub.status.busy": "2025-02-10T15:22:24.490540Z",
     "iopub.execute_input": "2025-02-10T15:22:24.490945Z",
     "iopub.status.idle": "2025-02-10T15:22:24.497173Z",
     "shell.execute_reply.started": "2025-02-10T15:22:24.490853Z",
     "shell.execute_reply": "2025-02-10T15:22:24.496110Z"
    }
   },
   "outputs": [
    {
     "execution_count": 69,
     "output_type": "execute_result",
     "data": {
      "text/plain": "Index(['text', 'class'], dtype='object')"
     },
     "metadata": {}
    }
   ],
   "execution_count": 69
  },
  {
   "cell_type": "markdown",
   "source": "**Creating a function to process the texts**",
   "metadata": {}
  },
  {
   "cell_type": "code",
   "source": "def wordopt(text):\n    text = text.lower()\n    text = re.sub('\\[.*?\\]', '', text)\n    text = re.sub(\"\\\\W\",\" \",text)\n    text = re.sub('https?://\\S+|www\\.\\S+', '', text)\n    text = re.sub('<.*?>+', '', text)\n    text = re.sub('[%s]' % re.escape(string.punctuation), '', text)\n    text = re.sub('\\n', '', text)\n    text = re.sub('\\w*\\d\\w*', '', text)\n    return text",
   "metadata": {
    "trusted": true,
    "execution": {
     "iopub.status.busy": "2025-02-10T15:22:51.856110Z",
     "iopub.execute_input": "2025-02-10T15:22:51.856497Z",
     "iopub.status.idle": "2025-02-10T15:22:51.863273Z",
     "shell.execute_reply.started": "2025-02-10T15:22:51.856467Z",
     "shell.execute_reply": "2025-02-10T15:22:51.861926Z"
    }
   },
   "outputs": [],
   "execution_count": 71
  },
  {
   "cell_type": "code",
   "source": "df[\"text\"] = df[\"text\"].apply(wordopt)",
   "metadata": {
    "trusted": true,
    "execution": {
     "iopub.status.busy": "2025-02-10T15:22:58.165316Z",
     "iopub.execute_input": "2025-02-10T15:22:58.165667Z",
     "iopub.status.idle": "2025-02-10T15:23:21.448469Z",
     "shell.execute_reply.started": "2025-02-10T15:22:58.165641Z",
     "shell.execute_reply": "2025-02-10T15:23:21.446848Z"
    }
   },
   "outputs": [],
   "execution_count": 72
  },
  {
   "cell_type": "code",
   "source": "df.head()",
   "metadata": {
    "trusted": true,
    "execution": {
     "iopub.status.busy": "2025-02-10T15:24:21.894204Z",
     "iopub.execute_input": "2025-02-10T15:24:21.894559Z",
     "iopub.status.idle": "2025-02-10T15:24:21.904319Z",
     "shell.execute_reply.started": "2025-02-10T15:24:21.894529Z",
     "shell.execute_reply": "2025-02-10T15:24:21.902976Z"
    }
   },
   "outputs": [
    {
     "execution_count": 73,
     "output_type": "execute_result",
     "data": {
      "text/plain": "                                                text  class\n0  washington   shocking video has emerged on soc...      0\n1  friday on msnbc  climate activist bill nye war...      0\n2   reuters    donald trump s nominee to head the...      1\n3  hillary clinton on thursday decried the spread...      0\n4  shanghai  reuters    china said on saturday it...      1",
      "text/html": "<div>\n<style scoped>\n    .dataframe tbody tr th:only-of-type {\n        vertical-align: middle;\n    }\n\n    .dataframe tbody tr th {\n        vertical-align: top;\n    }\n\n    .dataframe thead th {\n        text-align: right;\n    }\n</style>\n<table border=\"1\" class=\"dataframe\">\n  <thead>\n    <tr style=\"text-align: right;\">\n      <th></th>\n      <th>text</th>\n      <th>class</th>\n    </tr>\n  </thead>\n  <tbody>\n    <tr>\n      <th>0</th>\n      <td>washington   shocking video has emerged on soc...</td>\n      <td>0</td>\n    </tr>\n    <tr>\n      <th>1</th>\n      <td>friday on msnbc  climate activist bill nye war...</td>\n      <td>0</td>\n    </tr>\n    <tr>\n      <th>2</th>\n      <td>reuters    donald trump s nominee to head the...</td>\n      <td>1</td>\n    </tr>\n    <tr>\n      <th>3</th>\n      <td>hillary clinton on thursday decried the spread...</td>\n      <td>0</td>\n    </tr>\n    <tr>\n      <th>4</th>\n      <td>shanghai  reuters    china said on saturday it...</td>\n      <td>1</td>\n    </tr>\n  </tbody>\n</table>\n</div>"
     },
     "metadata": {}
    }
   ],
   "execution_count": 73
  },
  {
   "cell_type": "code",
   "source": "df.shape",
   "metadata": {
    "trusted": true,
    "execution": {
     "iopub.status.busy": "2025-02-10T15:24:24.638963Z",
     "iopub.execute_input": "2025-02-10T15:24:24.639307Z",
     "iopub.status.idle": "2025-02-10T15:24:24.646217Z",
     "shell.execute_reply.started": "2025-02-10T15:24:24.639281Z",
     "shell.execute_reply": "2025-02-10T15:24:24.645007Z"
    }
   },
   "outputs": [
    {
     "execution_count": 74,
     "output_type": "execute_result",
     "data": {
      "text/plain": "(44878, 2)"
     },
     "metadata": {}
    }
   ],
   "execution_count": 74
  },
  {
   "cell_type": "code",
   "source": "df.to_csv(\"/kaggle/working/news_dataset.csv\", index=False)\ncompression_opts = dict(method='zip',archive_name='/kaggle/working/news_dataset.csv')\ndf.to_csv('/kaggle/working/clean_dataset.zip', index=False,compression=compression_opts) ",
   "metadata": {
    "trusted": true,
    "execution": {
     "iopub.status.busy": "2025-02-10T15:24:33.998442Z",
     "iopub.execute_input": "2025-02-10T15:24:33.999216Z",
     "iopub.status.idle": "2025-02-10T15:24:49.450658Z",
     "shell.execute_reply.started": "2025-02-10T15:24:33.999159Z",
     "shell.execute_reply": "2025-02-10T15:24:49.449100Z"
    }
   },
   "outputs": [],
   "execution_count": 75
  },
  {
   "cell_type": "code",
   "source": "df.head()\n",
   "metadata": {
    "trusted": true,
    "execution": {
     "iopub.status.busy": "2025-02-10T15:30:44.410472Z",
     "iopub.execute_input": "2025-02-10T15:30:44.410947Z",
     "iopub.status.idle": "2025-02-10T15:30:44.420320Z",
     "shell.execute_reply.started": "2025-02-10T15:30:44.410910Z",
     "shell.execute_reply": "2025-02-10T15:30:44.419133Z"
    }
   },
   "outputs": [
    {
     "execution_count": 78,
     "output_type": "execute_result",
     "data": {
      "text/plain": "                                                text  class\n0  washington   shocking video has emerged on soc...      0\n1  friday on msnbc  climate activist bill nye war...      0\n2   reuters    donald trump s nominee to head the...      1\n3  hillary clinton on thursday decried the spread...      0\n4  shanghai  reuters    china said on saturday it...      1",
      "text/html": "<div>\n<style scoped>\n    .dataframe tbody tr th:only-of-type {\n        vertical-align: middle;\n    }\n\n    .dataframe tbody tr th {\n        vertical-align: top;\n    }\n\n    .dataframe thead th {\n        text-align: right;\n    }\n</style>\n<table border=\"1\" class=\"dataframe\">\n  <thead>\n    <tr style=\"text-align: right;\">\n      <th></th>\n      <th>text</th>\n      <th>class</th>\n    </tr>\n  </thead>\n  <tbody>\n    <tr>\n      <th>0</th>\n      <td>washington   shocking video has emerged on soc...</td>\n      <td>0</td>\n    </tr>\n    <tr>\n      <th>1</th>\n      <td>friday on msnbc  climate activist bill nye war...</td>\n      <td>0</td>\n    </tr>\n    <tr>\n      <th>2</th>\n      <td>reuters    donald trump s nominee to head the...</td>\n      <td>1</td>\n    </tr>\n    <tr>\n      <th>3</th>\n      <td>hillary clinton on thursday decried the spread...</td>\n      <td>0</td>\n    </tr>\n    <tr>\n      <th>4</th>\n      <td>shanghai  reuters    china said on saturday it...</td>\n      <td>1</td>\n    </tr>\n  </tbody>\n</table>\n</div>"
     },
     "metadata": {}
    }
   ],
   "execution_count": 78
  },
  {
   "cell_type": "code",
   "source": "df.shape",
   "metadata": {
    "trusted": true,
    "execution": {
     "iopub.status.busy": "2025-02-10T15:30:48.984163Z",
     "iopub.execute_input": "2025-02-10T15:30:48.984492Z",
     "iopub.status.idle": "2025-02-10T15:30:48.991566Z",
     "shell.execute_reply.started": "2025-02-10T15:30:48.984467Z",
     "shell.execute_reply": "2025-02-10T15:30:48.990481Z"
    }
   },
   "outputs": [
    {
     "execution_count": 79,
     "output_type": "execute_result",
     "data": {
      "text/plain": "(44878, 2)"
     },
     "metadata": {}
    }
   ],
   "execution_count": 79
  },
  {
   "cell_type": "markdown",
   "source": "**Split the dataset into train and test**",
   "metadata": {}
  },
  {
   "cell_type": "code",
   "source": "from sklearn.model_selection import train_test_split\nfrom sklearn.metrics import accuracy_score, classification_report, confusion_matrix",
   "metadata": {
    "trusted": true
   },
   "outputs": [],
   "execution_count": null
  }
 ]
}
