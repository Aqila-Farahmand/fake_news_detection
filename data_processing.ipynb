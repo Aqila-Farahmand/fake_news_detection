{
 "metadata": {
  "kernelspec": {
   "language": "python",
   "display_name": "Python 3",
   "name": "python3"
  },
  "language_info": {
   "name": "python",
   "version": "3.10.12",
   "mimetype": "text/x-python",
   "codemirror_mode": {
    "name": "ipython",
    "version": 3
   },
   "pygments_lexer": "ipython3",
   "nbconvert_exporter": "python",
   "file_extension": ".py"
  },
  "kaggle": {
   "accelerator": "none",
   "dataSources": [
    {
     "sourceId": 8165591,
     "sourceType": "datasetVersion",
     "datasetId": 4831777
    }
   ],
   "dockerImageVersionId": 30886,
   "isInternetEnabled": false,
   "language": "python",
   "sourceType": "notebook",
   "isGpuEnabled": false
  }
 },
 "nbformat_minor": 4,
 "nbformat": 4,
 "cells": [
  {
   "cell_type": "code",
   "source": [
    "import pandas as pd\n",
    "from sklearn.model_selection import train_test_split\n",
    "import re\n",
    "import string"
   ],
   "metadata": {
    "trusted": true,
    "execution": {
     "iopub.status.busy": "2025-02-12T11:12:39.289856Z",
     "iopub.execute_input": "2025-02-12T11:12:39.290262Z",
     "iopub.status.idle": "2025-02-12T11:12:40.454090Z",
     "shell.execute_reply.started": "2025-02-12T11:12:39.290230Z",
     "shell.execute_reply": "2025-02-12T11:12:40.452860Z"
    },
    "ExecuteTime": {
     "end_time": "2025-02-18T10:34:01.934822Z",
     "start_time": "2025-02-18T10:33:59.547701Z"
    }
   },
   "outputs": [],
   "execution_count": 2
  },
  {
   "cell_type": "code",
   "source": "df_fake = pd.read_csv(\"/kaggle/input/fake-and-real-news-dataset/Fake.csv\")\ndf_true = pd.read_csv(\"/kaggle/input/fake-and-real-news-dataset/True.csv\")",
   "metadata": {
    "trusted": true,
    "execution": {
     "iopub.status.busy": "2025-02-12T11:12:52.769468Z",
     "iopub.execute_input": "2025-02-12T11:12:52.770115Z",
     "iopub.status.idle": "2025-02-12T11:12:56.268279Z",
     "shell.execute_reply.started": "2025-02-12T11:12:52.770076Z",
     "shell.execute_reply": "2025-02-12T11:12:56.267068Z"
    }
   },
   "outputs": [],
   "execution_count": 4
  },
  {
   "cell_type": "code",
   "source": "df_fake.head()",
   "metadata": {
    "trusted": true,
    "execution": {
     "iopub.status.busy": "2025-02-12T11:12:58.373758Z",
     "iopub.execute_input": "2025-02-12T11:12:58.374179Z",
     "iopub.status.idle": "2025-02-12T11:12:58.402858Z",
     "shell.execute_reply.started": "2025-02-12T11:12:58.374150Z",
     "shell.execute_reply": "2025-02-12T11:12:58.401819Z"
    }
   },
   "outputs": [
    {
     "execution_count": 5,
     "output_type": "execute_result",
     "data": {
      "text/plain": "                                               title  \\\n0   Donald Trump Sends Out Embarrassing New Year’...   \n1   Drunk Bragging Trump Staffer Started Russian ...   \n2   Sheriff David Clarke Becomes An Internet Joke...   \n3   Trump Is So Obsessed He Even Has Obama’s Name...   \n4   Pope Francis Just Called Out Donald Trump Dur...   \n\n                                                text subject  \\\n0  Donald Trump just couldn t wish all Americans ...    News   \n1  House Intelligence Committee Chairman Devin Nu...    News   \n2  On Friday, it was revealed that former Milwauk...    News   \n3  On Christmas day, Donald Trump announced that ...    News   \n4  Pope Francis used his annual Christmas Day mes...    News   \n\n                date  \n0  December 31, 2017  \n1  December 31, 2017  \n2  December 30, 2017  \n3  December 29, 2017  \n4  December 25, 2017  ",
      "text/html": "<div>\n<style scoped>\n    .dataframe tbody tr th:only-of-type {\n        vertical-align: middle;\n    }\n\n    .dataframe tbody tr th {\n        vertical-align: top;\n    }\n\n    .dataframe thead th {\n        text-align: right;\n    }\n</style>\n<table border=\"1\" class=\"dataframe\">\n  <thead>\n    <tr style=\"text-align: right;\">\n      <th></th>\n      <th>title</th>\n      <th>text</th>\n      <th>subject</th>\n      <th>date</th>\n    </tr>\n  </thead>\n  <tbody>\n    <tr>\n      <th>0</th>\n      <td>Donald Trump Sends Out Embarrassing New Year’...</td>\n      <td>Donald Trump just couldn t wish all Americans ...</td>\n      <td>News</td>\n      <td>December 31, 2017</td>\n    </tr>\n    <tr>\n      <th>1</th>\n      <td>Drunk Bragging Trump Staffer Started Russian ...</td>\n      <td>House Intelligence Committee Chairman Devin Nu...</td>\n      <td>News</td>\n      <td>December 31, 2017</td>\n    </tr>\n    <tr>\n      <th>2</th>\n      <td>Sheriff David Clarke Becomes An Internet Joke...</td>\n      <td>On Friday, it was revealed that former Milwauk...</td>\n      <td>News</td>\n      <td>December 30, 2017</td>\n    </tr>\n    <tr>\n      <th>3</th>\n      <td>Trump Is So Obsessed He Even Has Obama’s Name...</td>\n      <td>On Christmas day, Donald Trump announced that ...</td>\n      <td>News</td>\n      <td>December 29, 2017</td>\n    </tr>\n    <tr>\n      <th>4</th>\n      <td>Pope Francis Just Called Out Donald Trump Dur...</td>\n      <td>Pope Francis used his annual Christmas Day mes...</td>\n      <td>News</td>\n      <td>December 25, 2017</td>\n    </tr>\n  </tbody>\n</table>\n</div>"
     },
     "metadata": {}
    }
   ],
   "execution_count": 5
  },
  {
   "cell_type": "code",
   "source": "df_true.head(5)",
   "metadata": {
    "trusted": true,
    "execution": {
     "iopub.status.busy": "2025-02-12T11:13:03.469441Z",
     "iopub.execute_input": "2025-02-12T11:13:03.469801Z",
     "iopub.status.idle": "2025-02-12T11:13:03.480770Z",
     "shell.execute_reply.started": "2025-02-12T11:13:03.469773Z",
     "shell.execute_reply": "2025-02-12T11:13:03.479513Z"
    }
   },
   "outputs": [
    {
     "execution_count": 6,
     "output_type": "execute_result",
     "data": {
      "text/plain": "                                               title  \\\n0  As U.S. budget fight looms, Republicans flip t...   \n1  U.S. military to accept transgender recruits o...   \n2  Senior U.S. Republican senator: 'Let Mr. Muell...   \n3  FBI Russia probe helped by Australian diplomat...   \n4  Trump wants Postal Service to charge 'much mor...   \n\n                                                text       subject  \\\n0  WASHINGTON (Reuters) - The head of a conservat...  politicsNews   \n1  WASHINGTON (Reuters) - Transgender people will...  politicsNews   \n2  WASHINGTON (Reuters) - The special counsel inv...  politicsNews   \n3  WASHINGTON (Reuters) - Trump campaign adviser ...  politicsNews   \n4  SEATTLE/WASHINGTON (Reuters) - President Donal...  politicsNews   \n\n                 date  \n0  December 31, 2017   \n1  December 29, 2017   \n2  December 31, 2017   \n3  December 30, 2017   \n4  December 29, 2017   ",
      "text/html": "<div>\n<style scoped>\n    .dataframe tbody tr th:only-of-type {\n        vertical-align: middle;\n    }\n\n    .dataframe tbody tr th {\n        vertical-align: top;\n    }\n\n    .dataframe thead th {\n        text-align: right;\n    }\n</style>\n<table border=\"1\" class=\"dataframe\">\n  <thead>\n    <tr style=\"text-align: right;\">\n      <th></th>\n      <th>title</th>\n      <th>text</th>\n      <th>subject</th>\n      <th>date</th>\n    </tr>\n  </thead>\n  <tbody>\n    <tr>\n      <th>0</th>\n      <td>As U.S. budget fight looms, Republicans flip t...</td>\n      <td>WASHINGTON (Reuters) - The head of a conservat...</td>\n      <td>politicsNews</td>\n      <td>December 31, 2017</td>\n    </tr>\n    <tr>\n      <th>1</th>\n      <td>U.S. military to accept transgender recruits o...</td>\n      <td>WASHINGTON (Reuters) - Transgender people will...</td>\n      <td>politicsNews</td>\n      <td>December 29, 2017</td>\n    </tr>\n    <tr>\n      <th>2</th>\n      <td>Senior U.S. Republican senator: 'Let Mr. Muell...</td>\n      <td>WASHINGTON (Reuters) - The special counsel inv...</td>\n      <td>politicsNews</td>\n      <td>December 31, 2017</td>\n    </tr>\n    <tr>\n      <th>3</th>\n      <td>FBI Russia probe helped by Australian diplomat...</td>\n      <td>WASHINGTON (Reuters) - Trump campaign adviser ...</td>\n      <td>politicsNews</td>\n      <td>December 30, 2017</td>\n    </tr>\n    <tr>\n      <th>4</th>\n      <td>Trump wants Postal Service to charge 'much mor...</td>\n      <td>SEATTLE/WASHINGTON (Reuters) - President Donal...</td>\n      <td>politicsNews</td>\n      <td>December 29, 2017</td>\n    </tr>\n  </tbody>\n</table>\n</div>"
     },
     "metadata": {}
    }
   ],
   "execution_count": 6
  },
  {
   "cell_type": "code",
   "source": "df_fake[\"class\"] = 0\ndf_true[\"class\"] = 1",
   "metadata": {
    "trusted": true,
    "execution": {
     "iopub.status.busy": "2025-02-12T11:13:06.204534Z",
     "iopub.execute_input": "2025-02-12T11:13:06.205005Z",
     "iopub.status.idle": "2025-02-12T11:13:06.211548Z",
     "shell.execute_reply.started": "2025-02-12T11:13:06.204975Z",
     "shell.execute_reply": "2025-02-12T11:13:06.210423Z"
    }
   },
   "outputs": [],
   "execution_count": 7
  },
  {
   "cell_type": "code",
   "source": "df_fake.head()",
   "metadata": {
    "trusted": true,
    "execution": {
     "iopub.status.busy": "2025-02-12T11:13:09.761442Z",
     "iopub.execute_input": "2025-02-12T11:13:09.761880Z",
     "iopub.status.idle": "2025-02-12T11:13:09.773005Z",
     "shell.execute_reply.started": "2025-02-12T11:13:09.761849Z",
     "shell.execute_reply": "2025-02-12T11:13:09.771785Z"
    }
   },
   "outputs": [
    {
     "execution_count": 8,
     "output_type": "execute_result",
     "data": {
      "text/plain": "                                               title  \\\n0   Donald Trump Sends Out Embarrassing New Year’...   \n1   Drunk Bragging Trump Staffer Started Russian ...   \n2   Sheriff David Clarke Becomes An Internet Joke...   \n3   Trump Is So Obsessed He Even Has Obama’s Name...   \n4   Pope Francis Just Called Out Donald Trump Dur...   \n\n                                                text subject  \\\n0  Donald Trump just couldn t wish all Americans ...    News   \n1  House Intelligence Committee Chairman Devin Nu...    News   \n2  On Friday, it was revealed that former Milwauk...    News   \n3  On Christmas day, Donald Trump announced that ...    News   \n4  Pope Francis used his annual Christmas Day mes...    News   \n\n                date  class  \n0  December 31, 2017      0  \n1  December 31, 2017      0  \n2  December 30, 2017      0  \n3  December 29, 2017      0  \n4  December 25, 2017      0  ",
      "text/html": "<div>\n<style scoped>\n    .dataframe tbody tr th:only-of-type {\n        vertical-align: middle;\n    }\n\n    .dataframe tbody tr th {\n        vertical-align: top;\n    }\n\n    .dataframe thead th {\n        text-align: right;\n    }\n</style>\n<table border=\"1\" class=\"dataframe\">\n  <thead>\n    <tr style=\"text-align: right;\">\n      <th></th>\n      <th>title</th>\n      <th>text</th>\n      <th>subject</th>\n      <th>date</th>\n      <th>class</th>\n    </tr>\n  </thead>\n  <tbody>\n    <tr>\n      <th>0</th>\n      <td>Donald Trump Sends Out Embarrassing New Year’...</td>\n      <td>Donald Trump just couldn t wish all Americans ...</td>\n      <td>News</td>\n      <td>December 31, 2017</td>\n      <td>0</td>\n    </tr>\n    <tr>\n      <th>1</th>\n      <td>Drunk Bragging Trump Staffer Started Russian ...</td>\n      <td>House Intelligence Committee Chairman Devin Nu...</td>\n      <td>News</td>\n      <td>December 31, 2017</td>\n      <td>0</td>\n    </tr>\n    <tr>\n      <th>2</th>\n      <td>Sheriff David Clarke Becomes An Internet Joke...</td>\n      <td>On Friday, it was revealed that former Milwauk...</td>\n      <td>News</td>\n      <td>December 30, 2017</td>\n      <td>0</td>\n    </tr>\n    <tr>\n      <th>3</th>\n      <td>Trump Is So Obsessed He Even Has Obama’s Name...</td>\n      <td>On Christmas day, Donald Trump announced that ...</td>\n      <td>News</td>\n      <td>December 29, 2017</td>\n      <td>0</td>\n    </tr>\n    <tr>\n      <th>4</th>\n      <td>Pope Francis Just Called Out Donald Trump Dur...</td>\n      <td>Pope Francis used his annual Christmas Day mes...</td>\n      <td>News</td>\n      <td>December 25, 2017</td>\n      <td>0</td>\n    </tr>\n  </tbody>\n</table>\n</div>"
     },
     "metadata": {}
    }
   ],
   "execution_count": 8
  },
  {
   "cell_type": "code",
   "source": "df_true.head()",
   "metadata": {
    "trusted": true,
    "execution": {
     "iopub.status.busy": "2025-02-12T11:13:13.324095Z",
     "iopub.execute_input": "2025-02-12T11:13:13.324418Z",
     "iopub.status.idle": "2025-02-12T11:13:13.335485Z",
     "shell.execute_reply.started": "2025-02-12T11:13:13.324394Z",
     "shell.execute_reply": "2025-02-12T11:13:13.334156Z"
    }
   },
   "outputs": [
    {
     "execution_count": 9,
     "output_type": "execute_result",
     "data": {
      "text/plain": "                                               title  \\\n0  As U.S. budget fight looms, Republicans flip t...   \n1  U.S. military to accept transgender recruits o...   \n2  Senior U.S. Republican senator: 'Let Mr. Muell...   \n3  FBI Russia probe helped by Australian diplomat...   \n4  Trump wants Postal Service to charge 'much mor...   \n\n                                                text       subject  \\\n0  WASHINGTON (Reuters) - The head of a conservat...  politicsNews   \n1  WASHINGTON (Reuters) - Transgender people will...  politicsNews   \n2  WASHINGTON (Reuters) - The special counsel inv...  politicsNews   \n3  WASHINGTON (Reuters) - Trump campaign adviser ...  politicsNews   \n4  SEATTLE/WASHINGTON (Reuters) - President Donal...  politicsNews   \n\n                 date  class  \n0  December 31, 2017       1  \n1  December 29, 2017       1  \n2  December 31, 2017       1  \n3  December 30, 2017       1  \n4  December 29, 2017       1  ",
      "text/html": "<div>\n<style scoped>\n    .dataframe tbody tr th:only-of-type {\n        vertical-align: middle;\n    }\n\n    .dataframe tbody tr th {\n        vertical-align: top;\n    }\n\n    .dataframe thead th {\n        text-align: right;\n    }\n</style>\n<table border=\"1\" class=\"dataframe\">\n  <thead>\n    <tr style=\"text-align: right;\">\n      <th></th>\n      <th>title</th>\n      <th>text</th>\n      <th>subject</th>\n      <th>date</th>\n      <th>class</th>\n    </tr>\n  </thead>\n  <tbody>\n    <tr>\n      <th>0</th>\n      <td>As U.S. budget fight looms, Republicans flip t...</td>\n      <td>WASHINGTON (Reuters) - The head of a conservat...</td>\n      <td>politicsNews</td>\n      <td>December 31, 2017</td>\n      <td>1</td>\n    </tr>\n    <tr>\n      <th>1</th>\n      <td>U.S. military to accept transgender recruits o...</td>\n      <td>WASHINGTON (Reuters) - Transgender people will...</td>\n      <td>politicsNews</td>\n      <td>December 29, 2017</td>\n      <td>1</td>\n    </tr>\n    <tr>\n      <th>2</th>\n      <td>Senior U.S. Republican senator: 'Let Mr. Muell...</td>\n      <td>WASHINGTON (Reuters) - The special counsel inv...</td>\n      <td>politicsNews</td>\n      <td>December 31, 2017</td>\n      <td>1</td>\n    </tr>\n    <tr>\n      <th>3</th>\n      <td>FBI Russia probe helped by Australian diplomat...</td>\n      <td>WASHINGTON (Reuters) - Trump campaign adviser ...</td>\n      <td>politicsNews</td>\n      <td>December 30, 2017</td>\n      <td>1</td>\n    </tr>\n    <tr>\n      <th>4</th>\n      <td>Trump wants Postal Service to charge 'much mor...</td>\n      <td>SEATTLE/WASHINGTON (Reuters) - President Donal...</td>\n      <td>politicsNews</td>\n      <td>December 29, 2017</td>\n      <td>1</td>\n    </tr>\n  </tbody>\n</table>\n</div>"
     },
     "metadata": {}
    }
   ],
   "execution_count": 9
  },
  {
   "cell_type": "code",
   "source": "df_fake.shape, df_true.shape",
   "metadata": {
    "trusted": true,
    "execution": {
     "iopub.status.busy": "2025-02-12T11:13:16.274520Z",
     "iopub.execute_input": "2025-02-12T11:13:16.275021Z",
     "iopub.status.idle": "2025-02-12T11:13:16.283377Z",
     "shell.execute_reply.started": "2025-02-12T11:13:16.274977Z",
     "shell.execute_reply": "2025-02-12T11:13:16.282099Z"
    }
   },
   "outputs": [
    {
     "execution_count": 10,
     "output_type": "execute_result",
     "data": {
      "text/plain": "((23481, 5), (21417, 5))"
     },
     "metadata": {}
    }
   ],
   "execution_count": 10
  },
  {
   "cell_type": "code",
   "source": "# Removing last 10 rows for manual testing\ndf_fake_manual_testing = df_fake.tail(10)\nfor i in range(23480,23470,-1):\n    df_fake.drop([i], axis = 0, inplace = True)\n\n\ndf_true_manual_testing = df_true.tail(10)\nfor i in range(21416,21406,-1):\n    df_true.drop([i], axis = 0, inplace = True)",
   "metadata": {
    "trusted": true,
    "execution": {
     "iopub.status.busy": "2025-02-12T11:13:19.148457Z",
     "iopub.execute_input": "2025-02-12T11:13:19.148848Z",
     "iopub.status.idle": "2025-02-12T11:13:19.223032Z",
     "shell.execute_reply.started": "2025-02-12T11:13:19.148814Z",
     "shell.execute_reply": "2025-02-12T11:13:19.221895Z"
    }
   },
   "outputs": [],
   "execution_count": 11
  },
  {
   "cell_type": "code",
   "source": "df_fake.shape, df_true.shape",
   "metadata": {
    "trusted": true,
    "execution": {
     "iopub.status.busy": "2025-02-12T11:13:24.068055Z",
     "iopub.execute_input": "2025-02-12T11:13:24.068426Z",
     "iopub.status.idle": "2025-02-12T11:13:24.075365Z",
     "shell.execute_reply.started": "2025-02-12T11:13:24.068398Z",
     "shell.execute_reply": "2025-02-12T11:13:24.073974Z"
    }
   },
   "outputs": [
    {
     "execution_count": 12,
     "output_type": "execute_result",
     "data": {
      "text/plain": "((23471, 5), (21407, 5))"
     },
     "metadata": {}
    }
   ],
   "execution_count": 12
  },
  {
   "cell_type": "code",
   "source": "df_fake_manual_testing[\"class\"] = 0\ndf_true_manual_testing[\"class\"] = 1",
   "metadata": {
    "trusted": true,
    "execution": {
     "iopub.status.busy": "2025-02-12T11:13:26.756817Z",
     "iopub.execute_input": "2025-02-12T11:13:26.757217Z",
     "iopub.status.idle": "2025-02-12T11:13:26.762684Z",
     "shell.execute_reply.started": "2025-02-12T11:13:26.757188Z",
     "shell.execute_reply": "2025-02-12T11:13:26.761391Z"
    }
   },
   "outputs": [
    {
     "name": "stderr",
     "text": "<ipython-input-13-3aaf8ec2aad1>:1: SettingWithCopyWarning: \nA value is trying to be set on a copy of a slice from a DataFrame.\nTry using .loc[row_indexer,col_indexer] = value instead\n\nSee the caveats in the documentation: https://pandas.pydata.org/pandas-docs/stable/user_guide/indexing.html#returning-a-view-versus-a-copy\n  df_fake_manual_testing[\"class\"] = 0\n<ipython-input-13-3aaf8ec2aad1>:2: SettingWithCopyWarning: \nA value is trying to be set on a copy of a slice from a DataFrame.\nTry using .loc[row_indexer,col_indexer] = value instead\n\nSee the caveats in the documentation: https://pandas.pydata.org/pandas-docs/stable/user_guide/indexing.html#returning-a-view-versus-a-copy\n  df_true_manual_testing[\"class\"] = 1\n",
     "output_type": "stream"
    }
   ],
   "execution_count": 13
  },
  {
   "cell_type": "code",
   "source": "df_fake_manual_testing.head(10)",
   "metadata": {
    "trusted": true,
    "execution": {
     "iopub.status.busy": "2025-02-12T11:13:30.594069Z",
     "iopub.execute_input": "2025-02-12T11:13:30.594417Z",
     "iopub.status.idle": "2025-02-12T11:13:30.606574Z",
     "shell.execute_reply.started": "2025-02-12T11:13:30.594391Z",
     "shell.execute_reply": "2025-02-12T11:13:30.605496Z"
    }
   },
   "outputs": [
    {
     "execution_count": 14,
     "output_type": "execute_result",
     "data": {
      "text/plain": "                                                   title  \\\n23471  Seven Iranians freed in the prisoner swap have...   \n23472                      #Hashtag Hell & The Fake Left   \n23473  Astroturfing: Journalist Reveals Brainwashing ...   \n23474          The New American Century: An Era of Fraud   \n23475  Hillary Clinton: ‘Israel First’ (and no peace ...   \n23476  McPain: John McCain Furious That Iran Treated ...   \n23477  JUSTICE? Yahoo Settles E-mail Privacy Class-ac...   \n23478  Sunnistan: US and Allied ‘Safe Zone’ Plan to T...   \n23479  How to Blow $700 Million: Al Jazeera America F...   \n23480  10 U.S. Navy Sailors Held by Iranian Military ...   \n\n                                                    text      subject  \\\n23471  21st Century Wire says This week, the historic...  Middle-east   \n23472   By Dady Chery and Gilbert MercierAll writers ...  Middle-east   \n23473  Vic Bishop Waking TimesOur reality is carefull...  Middle-east   \n23474  Paul Craig RobertsIn the last years of the 20t...  Middle-east   \n23475  Robert Fantina CounterpunchAlthough the United...  Middle-east   \n23476  21st Century Wire says As 21WIRE reported earl...  Middle-east   \n23477  21st Century Wire says It s a familiar theme. ...  Middle-east   \n23478  Patrick Henningsen  21st Century WireRemember ...  Middle-east   \n23479  21st Century Wire says Al Jazeera America will...  Middle-east   \n23480  21st Century Wire says As 21WIRE predicted in ...  Middle-east   \n\n                   date  class  \n23471  January 20, 2016      0  \n23472  January 19, 2016      0  \n23473  January 19, 2016      0  \n23474  January 19, 2016      0  \n23475  January 18, 2016      0  \n23476  January 16, 2016      0  \n23477  January 16, 2016      0  \n23478  January 15, 2016      0  \n23479  January 14, 2016      0  \n23480  January 12, 2016      0  ",
      "text/html": "<div>\n<style scoped>\n    .dataframe tbody tr th:only-of-type {\n        vertical-align: middle;\n    }\n\n    .dataframe tbody tr th {\n        vertical-align: top;\n    }\n\n    .dataframe thead th {\n        text-align: right;\n    }\n</style>\n<table border=\"1\" class=\"dataframe\">\n  <thead>\n    <tr style=\"text-align: right;\">\n      <th></th>\n      <th>title</th>\n      <th>text</th>\n      <th>subject</th>\n      <th>date</th>\n      <th>class</th>\n    </tr>\n  </thead>\n  <tbody>\n    <tr>\n      <th>23471</th>\n      <td>Seven Iranians freed in the prisoner swap have...</td>\n      <td>21st Century Wire says This week, the historic...</td>\n      <td>Middle-east</td>\n      <td>January 20, 2016</td>\n      <td>0</td>\n    </tr>\n    <tr>\n      <th>23472</th>\n      <td>#Hashtag Hell &amp; The Fake Left</td>\n      <td>By Dady Chery and Gilbert MercierAll writers ...</td>\n      <td>Middle-east</td>\n      <td>January 19, 2016</td>\n      <td>0</td>\n    </tr>\n    <tr>\n      <th>23473</th>\n      <td>Astroturfing: Journalist Reveals Brainwashing ...</td>\n      <td>Vic Bishop Waking TimesOur reality is carefull...</td>\n      <td>Middle-east</td>\n      <td>January 19, 2016</td>\n      <td>0</td>\n    </tr>\n    <tr>\n      <th>23474</th>\n      <td>The New American Century: An Era of Fraud</td>\n      <td>Paul Craig RobertsIn the last years of the 20t...</td>\n      <td>Middle-east</td>\n      <td>January 19, 2016</td>\n      <td>0</td>\n    </tr>\n    <tr>\n      <th>23475</th>\n      <td>Hillary Clinton: ‘Israel First’ (and no peace ...</td>\n      <td>Robert Fantina CounterpunchAlthough the United...</td>\n      <td>Middle-east</td>\n      <td>January 18, 2016</td>\n      <td>0</td>\n    </tr>\n    <tr>\n      <th>23476</th>\n      <td>McPain: John McCain Furious That Iran Treated ...</td>\n      <td>21st Century Wire says As 21WIRE reported earl...</td>\n      <td>Middle-east</td>\n      <td>January 16, 2016</td>\n      <td>0</td>\n    </tr>\n    <tr>\n      <th>23477</th>\n      <td>JUSTICE? Yahoo Settles E-mail Privacy Class-ac...</td>\n      <td>21st Century Wire says It s a familiar theme. ...</td>\n      <td>Middle-east</td>\n      <td>January 16, 2016</td>\n      <td>0</td>\n    </tr>\n    <tr>\n      <th>23478</th>\n      <td>Sunnistan: US and Allied ‘Safe Zone’ Plan to T...</td>\n      <td>Patrick Henningsen  21st Century WireRemember ...</td>\n      <td>Middle-east</td>\n      <td>January 15, 2016</td>\n      <td>0</td>\n    </tr>\n    <tr>\n      <th>23479</th>\n      <td>How to Blow $700 Million: Al Jazeera America F...</td>\n      <td>21st Century Wire says Al Jazeera America will...</td>\n      <td>Middle-east</td>\n      <td>January 14, 2016</td>\n      <td>0</td>\n    </tr>\n    <tr>\n      <th>23480</th>\n      <td>10 U.S. Navy Sailors Held by Iranian Military ...</td>\n      <td>21st Century Wire says As 21WIRE predicted in ...</td>\n      <td>Middle-east</td>\n      <td>January 12, 2016</td>\n      <td>0</td>\n    </tr>\n  </tbody>\n</table>\n</div>"
     },
     "metadata": {}
    }
   ],
   "execution_count": 14
  },
  {
   "cell_type": "code",
   "source": "df_true_manual_testing.head(10)",
   "metadata": {
    "trusted": true,
    "execution": {
     "iopub.status.busy": "2025-02-12T11:13:34.069606Z",
     "iopub.execute_input": "2025-02-12T11:13:34.070050Z",
     "iopub.status.idle": "2025-02-12T11:13:34.082050Z",
     "shell.execute_reply.started": "2025-02-12T11:13:34.070017Z",
     "shell.execute_reply": "2025-02-12T11:13:34.080766Z"
    }
   },
   "outputs": [
    {
     "execution_count": 15,
     "output_type": "execute_result",
     "data": {
      "text/plain": "                                                   title  \\\n21407  Mata Pires, owner of embattled Brazil builder ...   \n21408  U.S., North Korea clash at U.N. forum over nuc...   \n21409  U.S., North Korea clash at U.N. arms forum on ...   \n21410  Headless torso could belong to submarine journ...   \n21411  North Korea shipments to Syria chemical arms a...   \n21412  'Fully committed' NATO backs new U.S. approach...   \n21413  LexisNexis withdrew two products from Chinese ...   \n21414  Minsk cultural hub becomes haven from authorities   \n21415  Vatican upbeat on possibility of Pope Francis ...   \n21416  Indonesia to buy $1.14 billion worth of Russia...   \n\n                                                    text    subject  \\\n21407  SAO PAULO (Reuters) - Cesar Mata Pires, the ow...  worldnews   \n21408  GENEVA (Reuters) - North Korea and the United ...  worldnews   \n21409  GENEVA (Reuters) - North Korea and the United ...  worldnews   \n21410  COPENHAGEN (Reuters) - Danish police said on T...  worldnews   \n21411  UNITED NATIONS (Reuters) - Two North Korean sh...  worldnews   \n21412  BRUSSELS (Reuters) - NATO allies on Tuesday we...  worldnews   \n21413  LONDON (Reuters) - LexisNexis, a provider of l...  worldnews   \n21414  MINSK (Reuters) - In the shadow of disused Sov...  worldnews   \n21415  MOSCOW (Reuters) - Vatican Secretary of State ...  worldnews   \n21416  JAKARTA (Reuters) - Indonesia will buy 11 Sukh...  worldnews   \n\n                   date  class  \n21407  August 22, 2017       1  \n21408  August 22, 2017       1  \n21409  August 22, 2017       1  \n21410  August 22, 2017       1  \n21411  August 21, 2017       1  \n21412  August 22, 2017       1  \n21413  August 22, 2017       1  \n21414  August 22, 2017       1  \n21415  August 22, 2017       1  \n21416  August 22, 2017       1  ",
      "text/html": "<div>\n<style scoped>\n    .dataframe tbody tr th:only-of-type {\n        vertical-align: middle;\n    }\n\n    .dataframe tbody tr th {\n        vertical-align: top;\n    }\n\n    .dataframe thead th {\n        text-align: right;\n    }\n</style>\n<table border=\"1\" class=\"dataframe\">\n  <thead>\n    <tr style=\"text-align: right;\">\n      <th></th>\n      <th>title</th>\n      <th>text</th>\n      <th>subject</th>\n      <th>date</th>\n      <th>class</th>\n    </tr>\n  </thead>\n  <tbody>\n    <tr>\n      <th>21407</th>\n      <td>Mata Pires, owner of embattled Brazil builder ...</td>\n      <td>SAO PAULO (Reuters) - Cesar Mata Pires, the ow...</td>\n      <td>worldnews</td>\n      <td>August 22, 2017</td>\n      <td>1</td>\n    </tr>\n    <tr>\n      <th>21408</th>\n      <td>U.S., North Korea clash at U.N. forum over nuc...</td>\n      <td>GENEVA (Reuters) - North Korea and the United ...</td>\n      <td>worldnews</td>\n      <td>August 22, 2017</td>\n      <td>1</td>\n    </tr>\n    <tr>\n      <th>21409</th>\n      <td>U.S., North Korea clash at U.N. arms forum on ...</td>\n      <td>GENEVA (Reuters) - North Korea and the United ...</td>\n      <td>worldnews</td>\n      <td>August 22, 2017</td>\n      <td>1</td>\n    </tr>\n    <tr>\n      <th>21410</th>\n      <td>Headless torso could belong to submarine journ...</td>\n      <td>COPENHAGEN (Reuters) - Danish police said on T...</td>\n      <td>worldnews</td>\n      <td>August 22, 2017</td>\n      <td>1</td>\n    </tr>\n    <tr>\n      <th>21411</th>\n      <td>North Korea shipments to Syria chemical arms a...</td>\n      <td>UNITED NATIONS (Reuters) - Two North Korean sh...</td>\n      <td>worldnews</td>\n      <td>August 21, 2017</td>\n      <td>1</td>\n    </tr>\n    <tr>\n      <th>21412</th>\n      <td>'Fully committed' NATO backs new U.S. approach...</td>\n      <td>BRUSSELS (Reuters) - NATO allies on Tuesday we...</td>\n      <td>worldnews</td>\n      <td>August 22, 2017</td>\n      <td>1</td>\n    </tr>\n    <tr>\n      <th>21413</th>\n      <td>LexisNexis withdrew two products from Chinese ...</td>\n      <td>LONDON (Reuters) - LexisNexis, a provider of l...</td>\n      <td>worldnews</td>\n      <td>August 22, 2017</td>\n      <td>1</td>\n    </tr>\n    <tr>\n      <th>21414</th>\n      <td>Minsk cultural hub becomes haven from authorities</td>\n      <td>MINSK (Reuters) - In the shadow of disused Sov...</td>\n      <td>worldnews</td>\n      <td>August 22, 2017</td>\n      <td>1</td>\n    </tr>\n    <tr>\n      <th>21415</th>\n      <td>Vatican upbeat on possibility of Pope Francis ...</td>\n      <td>MOSCOW (Reuters) - Vatican Secretary of State ...</td>\n      <td>worldnews</td>\n      <td>August 22, 2017</td>\n      <td>1</td>\n    </tr>\n    <tr>\n      <th>21416</th>\n      <td>Indonesia to buy $1.14 billion worth of Russia...</td>\n      <td>JAKARTA (Reuters) - Indonesia will buy 11 Sukh...</td>\n      <td>worldnews</td>\n      <td>August 22, 2017</td>\n      <td>1</td>\n    </tr>\n  </tbody>\n</table>\n</div>"
     },
     "metadata": {}
    }
   ],
   "execution_count": 15
  },
  {
   "cell_type": "code",
   "source": "df_manual_testing = pd.concat([df_fake_manual_testing,df_true_manual_testing], axis = 0)\n\ndf_manual_testing.to_csv(\"/kaggle/working/manual_testing.csv\")",
   "metadata": {
    "trusted": true,
    "execution": {
     "iopub.status.busy": "2025-02-12T11:13:36.814037Z",
     "iopub.execute_input": "2025-02-12T11:13:36.814481Z",
     "iopub.status.idle": "2025-02-12T11:13:36.831576Z",
     "shell.execute_reply.started": "2025-02-12T11:13:36.814447Z",
     "shell.execute_reply": "2025-02-12T11:13:36.830114Z"
    }
   },
   "outputs": [],
   "execution_count": 16
  },
  {
   "cell_type": "code",
   "source": "#df_manual_testing = df_manual_testing.sample(frac = 1)",
   "metadata": {
    "trusted": true
   },
   "outputs": [],
   "execution_count": null
  },
  {
   "cell_type": "markdown",
   "source": "Merging True and Fake Dataframes\n",
   "metadata": {}
  },
  {
   "cell_type": "code",
   "source": "df_merge = pd.concat([df_fake, df_true], axis =0 )\ndf_merge.head(10)",
   "metadata": {
    "trusted": true,
    "execution": {
     "iopub.status.busy": "2025-02-12T11:13:45.836052Z",
     "iopub.execute_input": "2025-02-12T11:13:45.836439Z",
     "iopub.status.idle": "2025-02-12T11:13:45.856120Z",
     "shell.execute_reply.started": "2025-02-12T11:13:45.836408Z",
     "shell.execute_reply": "2025-02-12T11:13:45.854898Z"
    }
   },
   "outputs": [
    {
     "execution_count": 17,
     "output_type": "execute_result",
     "data": {
      "text/plain": "                                               title  \\\n0   Donald Trump Sends Out Embarrassing New Year’...   \n1   Drunk Bragging Trump Staffer Started Russian ...   \n2   Sheriff David Clarke Becomes An Internet Joke...   \n3   Trump Is So Obsessed He Even Has Obama’s Name...   \n4   Pope Francis Just Called Out Donald Trump Dur...   \n5   Racist Alabama Cops Brutalize Black Boy While...   \n6   Fresh Off The Golf Course, Trump Lashes Out A...   \n7   Trump Said Some INSANELY Racist Stuff Inside ...   \n8   Former CIA Director Slams Trump Over UN Bully...   \n9   WATCH: Brand-New Pro-Trump Ad Features So Muc...   \n\n                                                text subject  \\\n0  Donald Trump just couldn t wish all Americans ...    News   \n1  House Intelligence Committee Chairman Devin Nu...    News   \n2  On Friday, it was revealed that former Milwauk...    News   \n3  On Christmas day, Donald Trump announced that ...    News   \n4  Pope Francis used his annual Christmas Day mes...    News   \n5  The number of cases of cops brutalizing and ki...    News   \n6  Donald Trump spent a good portion of his day a...    News   \n7  In the wake of yet another court decision that...    News   \n8  Many people have raised the alarm regarding th...    News   \n9  Just when you might have thought we d get a br...    News   \n\n                date  class  \n0  December 31, 2017      0  \n1  December 31, 2017      0  \n2  December 30, 2017      0  \n3  December 29, 2017      0  \n4  December 25, 2017      0  \n5  December 25, 2017      0  \n6  December 23, 2017      0  \n7  December 23, 2017      0  \n8  December 22, 2017      0  \n9  December 21, 2017      0  ",
      "text/html": "<div>\n<style scoped>\n    .dataframe tbody tr th:only-of-type {\n        vertical-align: middle;\n    }\n\n    .dataframe tbody tr th {\n        vertical-align: top;\n    }\n\n    .dataframe thead th {\n        text-align: right;\n    }\n</style>\n<table border=\"1\" class=\"dataframe\">\n  <thead>\n    <tr style=\"text-align: right;\">\n      <th></th>\n      <th>title</th>\n      <th>text</th>\n      <th>subject</th>\n      <th>date</th>\n      <th>class</th>\n    </tr>\n  </thead>\n  <tbody>\n    <tr>\n      <th>0</th>\n      <td>Donald Trump Sends Out Embarrassing New Year’...</td>\n      <td>Donald Trump just couldn t wish all Americans ...</td>\n      <td>News</td>\n      <td>December 31, 2017</td>\n      <td>0</td>\n    </tr>\n    <tr>\n      <th>1</th>\n      <td>Drunk Bragging Trump Staffer Started Russian ...</td>\n      <td>House Intelligence Committee Chairman Devin Nu...</td>\n      <td>News</td>\n      <td>December 31, 2017</td>\n      <td>0</td>\n    </tr>\n    <tr>\n      <th>2</th>\n      <td>Sheriff David Clarke Becomes An Internet Joke...</td>\n      <td>On Friday, it was revealed that former Milwauk...</td>\n      <td>News</td>\n      <td>December 30, 2017</td>\n      <td>0</td>\n    </tr>\n    <tr>\n      <th>3</th>\n      <td>Trump Is So Obsessed He Even Has Obama’s Name...</td>\n      <td>On Christmas day, Donald Trump announced that ...</td>\n      <td>News</td>\n      <td>December 29, 2017</td>\n      <td>0</td>\n    </tr>\n    <tr>\n      <th>4</th>\n      <td>Pope Francis Just Called Out Donald Trump Dur...</td>\n      <td>Pope Francis used his annual Christmas Day mes...</td>\n      <td>News</td>\n      <td>December 25, 2017</td>\n      <td>0</td>\n    </tr>\n    <tr>\n      <th>5</th>\n      <td>Racist Alabama Cops Brutalize Black Boy While...</td>\n      <td>The number of cases of cops brutalizing and ki...</td>\n      <td>News</td>\n      <td>December 25, 2017</td>\n      <td>0</td>\n    </tr>\n    <tr>\n      <th>6</th>\n      <td>Fresh Off The Golf Course, Trump Lashes Out A...</td>\n      <td>Donald Trump spent a good portion of his day a...</td>\n      <td>News</td>\n      <td>December 23, 2017</td>\n      <td>0</td>\n    </tr>\n    <tr>\n      <th>7</th>\n      <td>Trump Said Some INSANELY Racist Stuff Inside ...</td>\n      <td>In the wake of yet another court decision that...</td>\n      <td>News</td>\n      <td>December 23, 2017</td>\n      <td>0</td>\n    </tr>\n    <tr>\n      <th>8</th>\n      <td>Former CIA Director Slams Trump Over UN Bully...</td>\n      <td>Many people have raised the alarm regarding th...</td>\n      <td>News</td>\n      <td>December 22, 2017</td>\n      <td>0</td>\n    </tr>\n    <tr>\n      <th>9</th>\n      <td>WATCH: Brand-New Pro-Trump Ad Features So Muc...</td>\n      <td>Just when you might have thought we d get a br...</td>\n      <td>News</td>\n      <td>December 21, 2017</td>\n      <td>0</td>\n    </tr>\n  </tbody>\n</table>\n</div>"
     },
     "metadata": {}
    }
   ],
   "execution_count": 17
  },
  {
   "cell_type": "code",
   "source": "df_merge.columns",
   "metadata": {
    "trusted": true,
    "execution": {
     "iopub.status.busy": "2025-02-12T11:13:49.490590Z",
     "iopub.execute_input": "2025-02-12T11:13:49.490972Z",
     "iopub.status.idle": "2025-02-12T11:13:49.497245Z",
     "shell.execute_reply.started": "2025-02-12T11:13:49.490916Z",
     "shell.execute_reply": "2025-02-12T11:13:49.496007Z"
    }
   },
   "outputs": [
    {
     "execution_count": 18,
     "output_type": "execute_result",
     "data": {
      "text/plain": "Index(['title', 'text', 'subject', 'date', 'class'], dtype='object')"
     },
     "metadata": {}
    }
   ],
   "execution_count": 18
  },
  {
   "cell_type": "markdown",
   "source": "Removing columns which are not required",
   "metadata": {}
  },
  {
   "cell_type": "code",
   "source": "df = df_merge.drop([\"title\", \"subject\",\"date\"], axis = 1)",
   "metadata": {
    "trusted": true,
    "execution": {
     "iopub.status.busy": "2025-02-12T11:14:05.120546Z",
     "iopub.execute_input": "2025-02-12T11:14:05.121030Z",
     "iopub.status.idle": "2025-02-12T11:14:05.130197Z",
     "shell.execute_reply.started": "2025-02-12T11:14:05.120998Z",
     "shell.execute_reply": "2025-02-12T11:14:05.129036Z"
    }
   },
   "outputs": [],
   "execution_count": 20
  },
  {
   "cell_type": "code",
   "source": "df.isnull().sum()",
   "metadata": {
    "trusted": true,
    "execution": {
     "iopub.status.busy": "2025-02-12T11:14:08.196659Z",
     "iopub.execute_input": "2025-02-12T11:14:08.197043Z",
     "iopub.status.idle": "2025-02-12T11:14:08.212930Z",
     "shell.execute_reply.started": "2025-02-12T11:14:08.197009Z",
     "shell.execute_reply": "2025-02-12T11:14:08.211722Z"
    }
   },
   "outputs": [
    {
     "execution_count": 21,
     "output_type": "execute_result",
     "data": {
      "text/plain": "text     0\nclass    0\ndtype: int64"
     },
     "metadata": {}
    }
   ],
   "execution_count": 21
  },
  {
   "cell_type": "markdown",
   "source": "Random Shuffling the dataframe",
   "metadata": {}
  },
  {
   "cell_type": "code",
   "source": "df = df.sample(frac = 1)",
   "metadata": {
    "trusted": true,
    "execution": {
     "iopub.status.busy": "2025-02-12T11:14:13.120029Z",
     "iopub.execute_input": "2025-02-12T11:14:13.120373Z",
     "iopub.status.idle": "2025-02-12T11:14:13.134384Z",
     "shell.execute_reply.started": "2025-02-12T11:14:13.120349Z",
     "shell.execute_reply": "2025-02-12T11:14:13.133165Z"
    }
   },
   "outputs": [],
   "execution_count": 23
  },
  {
   "cell_type": "code",
   "source": "df.head()",
   "metadata": {
    "trusted": true,
    "execution": {
     "iopub.status.busy": "2025-02-12T11:14:15.164784Z",
     "iopub.execute_input": "2025-02-12T11:14:15.165177Z",
     "iopub.status.idle": "2025-02-12T11:14:15.175352Z",
     "shell.execute_reply.started": "2025-02-12T11:14:15.165146Z",
     "shell.execute_reply": "2025-02-12T11:14:15.174062Z"
    }
   },
   "outputs": [
    {
     "execution_count": 24,
     "output_type": "execute_result",
     "data": {
      "text/plain": "                                                    text  class\n20974  CHARIKAR, Afghanistan (Reuters) - Afghan autho...      1\n19726  NEW YORK (Reuters) - Britain, the United State...      1\n17426  VATICAN CITY (Reuters) - Pope Francis canonize...      1\n10294  Yes, this will happen! America needs a wall at...      0\n332    There s a lot of buzz about the GOP s latest e...      0",
      "text/html": "<div>\n<style scoped>\n    .dataframe tbody tr th:only-of-type {\n        vertical-align: middle;\n    }\n\n    .dataframe tbody tr th {\n        vertical-align: top;\n    }\n\n    .dataframe thead th {\n        text-align: right;\n    }\n</style>\n<table border=\"1\" class=\"dataframe\">\n  <thead>\n    <tr style=\"text-align: right;\">\n      <th></th>\n      <th>text</th>\n      <th>class</th>\n    </tr>\n  </thead>\n  <tbody>\n    <tr>\n      <th>20974</th>\n      <td>CHARIKAR, Afghanistan (Reuters) - Afghan autho...</td>\n      <td>1</td>\n    </tr>\n    <tr>\n      <th>19726</th>\n      <td>NEW YORK (Reuters) - Britain, the United State...</td>\n      <td>1</td>\n    </tr>\n    <tr>\n      <th>17426</th>\n      <td>VATICAN CITY (Reuters) - Pope Francis canonize...</td>\n      <td>1</td>\n    </tr>\n    <tr>\n      <th>10294</th>\n      <td>Yes, this will happen! America needs a wall at...</td>\n      <td>0</td>\n    </tr>\n    <tr>\n      <th>332</th>\n      <td>There s a lot of buzz about the GOP s latest e...</td>\n      <td>0</td>\n    </tr>\n  </tbody>\n</table>\n</div>"
     },
     "metadata": {}
    }
   ],
   "execution_count": 24
  },
  {
   "cell_type": "code",
   "source": "df.reset_index(inplace = True)\ndf.drop([\"index\"], axis = 1, inplace = True)",
   "metadata": {
    "trusted": true,
    "execution": {
     "iopub.status.busy": "2025-02-12T11:14:17.947458Z",
     "iopub.execute_input": "2025-02-12T11:14:17.947880Z",
     "iopub.status.idle": "2025-02-12T11:14:17.957556Z",
     "shell.execute_reply.started": "2025-02-12T11:14:17.947845Z",
     "shell.execute_reply": "2025-02-12T11:14:17.956464Z"
    }
   },
   "outputs": [],
   "execution_count": 25
  },
  {
   "cell_type": "code",
   "source": "df.head(20)",
   "metadata": {
    "trusted": true,
    "execution": {
     "iopub.status.busy": "2025-02-12T11:14:21.578247Z",
     "iopub.execute_input": "2025-02-12T11:14:21.578592Z",
     "iopub.status.idle": "2025-02-12T11:14:21.589384Z",
     "shell.execute_reply.started": "2025-02-12T11:14:21.578566Z",
     "shell.execute_reply": "2025-02-12T11:14:21.588201Z"
    }
   },
   "outputs": [
    {
     "execution_count": 26,
     "output_type": "execute_result",
     "data": {
      "text/plain": "                                                 text  class\n0   CHARIKAR, Afghanistan (Reuters) - Afghan autho...      1\n1   NEW YORK (Reuters) - Britain, the United State...      1\n2   VATICAN CITY (Reuters) - Pope Francis canonize...      1\n3   Yes, this will happen! America needs a wall at...      0\n4   There s a lot of buzz about the GOP s latest e...      0\n5   GENEVA (Reuters) - The United Nations has veri...      1\n6   21st Century Wire says Three weeks ago, while ...      0\n7   Republican presidential nominee Donald Trump h...      0\n8   BRUSSELS (Reuters) - Turkish Foreign Minister ...      1\n9   In discussing shootings and crime in the first...      0\n10  LONDON (Reuters) - British aid minister Priti ...      1\n11  Hillary s VP pick is proving himself to be a a...      0\n12  An Arlington woman was arrested this week and ...      0\n13  21st Century Wire says Partisan liberal hypocr...      0\n14  OSLO (Reuters) - Norwegians vote on Sept. 10 a...      1\n15  BEIRUT (Reuters) - A booby-trapped motorbike e...      1\n16  On Tuesday, the Grammys announced their nomina...      0\n17  WASHINGTON (Reuters) - U.S. Treasury Secretary...      1\n18  The despicable anti-free speech, communist clo...      0\n19  (Reuters) - U.S. President Donald Trump faces ...      1",
      "text/html": "<div>\n<style scoped>\n    .dataframe tbody tr th:only-of-type {\n        vertical-align: middle;\n    }\n\n    .dataframe tbody tr th {\n        vertical-align: top;\n    }\n\n    .dataframe thead th {\n        text-align: right;\n    }\n</style>\n<table border=\"1\" class=\"dataframe\">\n  <thead>\n    <tr style=\"text-align: right;\">\n      <th></th>\n      <th>text</th>\n      <th>class</th>\n    </tr>\n  </thead>\n  <tbody>\n    <tr>\n      <th>0</th>\n      <td>CHARIKAR, Afghanistan (Reuters) - Afghan autho...</td>\n      <td>1</td>\n    </tr>\n    <tr>\n      <th>1</th>\n      <td>NEW YORK (Reuters) - Britain, the United State...</td>\n      <td>1</td>\n    </tr>\n    <tr>\n      <th>2</th>\n      <td>VATICAN CITY (Reuters) - Pope Francis canonize...</td>\n      <td>1</td>\n    </tr>\n    <tr>\n      <th>3</th>\n      <td>Yes, this will happen! America needs a wall at...</td>\n      <td>0</td>\n    </tr>\n    <tr>\n      <th>4</th>\n      <td>There s a lot of buzz about the GOP s latest e...</td>\n      <td>0</td>\n    </tr>\n    <tr>\n      <th>5</th>\n      <td>GENEVA (Reuters) - The United Nations has veri...</td>\n      <td>1</td>\n    </tr>\n    <tr>\n      <th>6</th>\n      <td>21st Century Wire says Three weeks ago, while ...</td>\n      <td>0</td>\n    </tr>\n    <tr>\n      <th>7</th>\n      <td>Republican presidential nominee Donald Trump h...</td>\n      <td>0</td>\n    </tr>\n    <tr>\n      <th>8</th>\n      <td>BRUSSELS (Reuters) - Turkish Foreign Minister ...</td>\n      <td>1</td>\n    </tr>\n    <tr>\n      <th>9</th>\n      <td>In discussing shootings and crime in the first...</td>\n      <td>0</td>\n    </tr>\n    <tr>\n      <th>10</th>\n      <td>LONDON (Reuters) - British aid minister Priti ...</td>\n      <td>1</td>\n    </tr>\n    <tr>\n      <th>11</th>\n      <td>Hillary s VP pick is proving himself to be a a...</td>\n      <td>0</td>\n    </tr>\n    <tr>\n      <th>12</th>\n      <td>An Arlington woman was arrested this week and ...</td>\n      <td>0</td>\n    </tr>\n    <tr>\n      <th>13</th>\n      <td>21st Century Wire says Partisan liberal hypocr...</td>\n      <td>0</td>\n    </tr>\n    <tr>\n      <th>14</th>\n      <td>OSLO (Reuters) - Norwegians vote on Sept. 10 a...</td>\n      <td>1</td>\n    </tr>\n    <tr>\n      <th>15</th>\n      <td>BEIRUT (Reuters) - A booby-trapped motorbike e...</td>\n      <td>1</td>\n    </tr>\n    <tr>\n      <th>16</th>\n      <td>On Tuesday, the Grammys announced their nomina...</td>\n      <td>0</td>\n    </tr>\n    <tr>\n      <th>17</th>\n      <td>WASHINGTON (Reuters) - U.S. Treasury Secretary...</td>\n      <td>1</td>\n    </tr>\n    <tr>\n      <th>18</th>\n      <td>The despicable anti-free speech, communist clo...</td>\n      <td>0</td>\n    </tr>\n    <tr>\n      <th>19</th>\n      <td>(Reuters) - U.S. President Donald Trump faces ...</td>\n      <td>1</td>\n    </tr>\n  </tbody>\n</table>\n</div>"
     },
     "metadata": {}
    }
   ],
   "execution_count": 26
  },
  {
   "cell_type": "code",
   "source": "df.columns",
   "metadata": {
    "trusted": true,
    "execution": {
     "iopub.status.busy": "2025-02-12T11:14:26.699967Z",
     "iopub.execute_input": "2025-02-12T11:14:26.700433Z",
     "iopub.status.idle": "2025-02-12T11:14:26.708362Z",
     "shell.execute_reply.started": "2025-02-12T11:14:26.700393Z",
     "shell.execute_reply": "2025-02-12T11:14:26.707231Z"
    }
   },
   "outputs": [
    {
     "execution_count": 27,
     "output_type": "execute_result",
     "data": {
      "text/plain": "Index(['text', 'class'], dtype='object')"
     },
     "metadata": {}
    }
   ],
   "execution_count": 27
  },
  {
   "cell_type": "markdown",
   "source": "**Creating a function to process the texts**",
   "metadata": {}
  },
  {
   "cell_type": "code",
   "source": "def wordopt(text):\n    text = text.lower()\n    text = re.sub('\\[.*?\\]', '', text)\n    text = re.sub(\"\\\\W\",\" \",text)\n    text = re.sub('https?://\\S+|www\\.\\S+', '', text)\n    text = re.sub('<.*?>+', '', text)\n    text = re.sub('[%s]' % re.escape(string.punctuation), '', text)\n    text = re.sub('\\n', '', text)\n    text = re.sub('\\w*\\d\\w*', '', text)\n    return text",
   "metadata": {
    "trusted": true,
    "execution": {
     "iopub.status.busy": "2025-02-12T11:14:29.889794Z",
     "iopub.execute_input": "2025-02-12T11:14:29.890167Z",
     "iopub.status.idle": "2025-02-12T11:14:29.895966Z",
     "shell.execute_reply.started": "2025-02-12T11:14:29.890141Z",
     "shell.execute_reply": "2025-02-12T11:14:29.894794Z"
    }
   },
   "outputs": [],
   "execution_count": 28
  },
  {
   "cell_type": "code",
   "source": "df[\"text\"] = df[\"text\"].apply(wordopt)",
   "metadata": {
    "trusted": true,
    "execution": {
     "iopub.status.busy": "2025-02-12T11:14:37.902497Z",
     "iopub.execute_input": "2025-02-12T11:14:37.902926Z",
     "iopub.status.idle": "2025-02-12T11:15:01.009974Z",
     "shell.execute_reply.started": "2025-02-12T11:14:37.902892Z",
     "shell.execute_reply": "2025-02-12T11:15:01.008751Z"
    }
   },
   "outputs": [],
   "execution_count": 29
  },
  {
   "cell_type": "code",
   "source": "df.head()",
   "metadata": {
    "trusted": true,
    "execution": {
     "iopub.status.busy": "2025-02-12T11:15:46.427854Z",
     "iopub.execute_input": "2025-02-12T11:15:46.428419Z",
     "iopub.status.idle": "2025-02-12T11:15:46.441966Z",
     "shell.execute_reply.started": "2025-02-12T11:15:46.428370Z",
     "shell.execute_reply": "2025-02-12T11:15:46.440597Z"
    }
   },
   "outputs": [
    {
     "execution_count": 30,
     "output_type": "execute_result",
     "data": {
      "text/plain": "                                                text  class\n0  charikar  afghanistan  reuters    afghan autho...      1\n1  new york  reuters    britain  the united state...      1\n2  vatican city  reuters    pope francis canonize...      1\n3  yes  this will happen  america needs a wall at...      0\n4  there s a lot of buzz about the gop s latest e...      0",
      "text/html": "<div>\n<style scoped>\n    .dataframe tbody tr th:only-of-type {\n        vertical-align: middle;\n    }\n\n    .dataframe tbody tr th {\n        vertical-align: top;\n    }\n\n    .dataframe thead th {\n        text-align: right;\n    }\n</style>\n<table border=\"1\" class=\"dataframe\">\n  <thead>\n    <tr style=\"text-align: right;\">\n      <th></th>\n      <th>text</th>\n      <th>class</th>\n    </tr>\n  </thead>\n  <tbody>\n    <tr>\n      <th>0</th>\n      <td>charikar  afghanistan  reuters    afghan autho...</td>\n      <td>1</td>\n    </tr>\n    <tr>\n      <th>1</th>\n      <td>new york  reuters    britain  the united state...</td>\n      <td>1</td>\n    </tr>\n    <tr>\n      <th>2</th>\n      <td>vatican city  reuters    pope francis canonize...</td>\n      <td>1</td>\n    </tr>\n    <tr>\n      <th>3</th>\n      <td>yes  this will happen  america needs a wall at...</td>\n      <td>0</td>\n    </tr>\n    <tr>\n      <th>4</th>\n      <td>there s a lot of buzz about the gop s latest e...</td>\n      <td>0</td>\n    </tr>\n  </tbody>\n</table>\n</div>"
     },
     "metadata": {}
    }
   ],
   "execution_count": 30
  },
  {
   "cell_type": "code",
   "source": "df.shape",
   "metadata": {
    "trusted": true,
    "execution": {
     "iopub.status.busy": "2025-02-12T11:15:49.744256Z",
     "iopub.execute_input": "2025-02-12T11:15:49.744592Z",
     "iopub.status.idle": "2025-02-12T11:15:49.751019Z",
     "shell.execute_reply.started": "2025-02-12T11:15:49.744567Z",
     "shell.execute_reply": "2025-02-12T11:15:49.749872Z"
    }
   },
   "outputs": [
    {
     "execution_count": 31,
     "output_type": "execute_result",
     "data": {
      "text/plain": "(44878, 2)"
     },
     "metadata": {}
    }
   ],
   "execution_count": 31
  },
  {
   "cell_type": "code",
   "source": [
    "df.to_csv(\"/kaggle/working/news_dataset.csv\", index=False)\n",
    "compression_opts = dict(method='zip',archive_name='/kaggle/working/news_dataset.csv')\n",
    "df.to_csv('/kaggle/working/clean_dataset.zip', index=False,compression=compression_opts) "
   ],
   "metadata": {
    "trusted": true,
    "execution": {
     "iopub.status.busy": "2025-02-12T11:15:55.271325Z",
     "iopub.execute_input": "2025-02-12T11:15:55.271716Z",
     "iopub.status.idle": "2025-02-12T11:16:09.064329Z",
     "shell.execute_reply.started": "2025-02-12T11:15:55.271684Z",
     "shell.execute_reply": "2025-02-12T11:16:09.063110Z"
    }
   },
   "outputs": [],
   "execution_count": 32
  },
  {
   "cell_type": "code",
   "source": "df.head()\n",
   "metadata": {
    "trusted": true,
    "execution": {
     "iopub.status.busy": "2025-02-12T11:16:18.572033Z",
     "iopub.execute_input": "2025-02-12T11:16:18.572413Z",
     "iopub.status.idle": "2025-02-12T11:16:18.582167Z",
     "shell.execute_reply.started": "2025-02-12T11:16:18.572383Z",
     "shell.execute_reply": "2025-02-12T11:16:18.580878Z"
    }
   },
   "outputs": [
    {
     "execution_count": 34,
     "output_type": "execute_result",
     "data": {
      "text/plain": "                                                text  class\n0  charikar  afghanistan  reuters    afghan autho...      1\n1  new york  reuters    britain  the united state...      1\n2  vatican city  reuters    pope francis canonize...      1\n3  yes  this will happen  america needs a wall at...      0\n4  there s a lot of buzz about the gop s latest e...      0",
      "text/html": "<div>\n<style scoped>\n    .dataframe tbody tr th:only-of-type {\n        vertical-align: middle;\n    }\n\n    .dataframe tbody tr th {\n        vertical-align: top;\n    }\n\n    .dataframe thead th {\n        text-align: right;\n    }\n</style>\n<table border=\"1\" class=\"dataframe\">\n  <thead>\n    <tr style=\"text-align: right;\">\n      <th></th>\n      <th>text</th>\n      <th>class</th>\n    </tr>\n  </thead>\n  <tbody>\n    <tr>\n      <th>0</th>\n      <td>charikar  afghanistan  reuters    afghan autho...</td>\n      <td>1</td>\n    </tr>\n    <tr>\n      <th>1</th>\n      <td>new york  reuters    britain  the united state...</td>\n      <td>1</td>\n    </tr>\n    <tr>\n      <th>2</th>\n      <td>vatican city  reuters    pope francis canonize...</td>\n      <td>1</td>\n    </tr>\n    <tr>\n      <th>3</th>\n      <td>yes  this will happen  america needs a wall at...</td>\n      <td>0</td>\n    </tr>\n    <tr>\n      <th>4</th>\n      <td>there s a lot of buzz about the gop s latest e...</td>\n      <td>0</td>\n    </tr>\n  </tbody>\n</table>\n</div>"
     },
     "metadata": {}
    }
   ],
   "execution_count": 34
  },
  {
   "cell_type": "code",
   "source": "df.shape",
   "metadata": {
    "trusted": true,
    "execution": {
     "iopub.status.busy": "2025-02-12T11:16:21.990178Z",
     "iopub.execute_input": "2025-02-12T11:16:21.990512Z",
     "iopub.status.idle": "2025-02-12T11:16:21.996491Z",
     "shell.execute_reply.started": "2025-02-12T11:16:21.990487Z",
     "shell.execute_reply": "2025-02-12T11:16:21.995472Z"
    }
   },
   "outputs": [
    {
     "execution_count": 35,
     "output_type": "execute_result",
     "data": {
      "text/plain": "(44878, 2)"
     },
     "metadata": {}
    }
   ],
   "execution_count": 35
  },
  {
   "cell_type": "markdown",
   "source": "**Split the dataset into train and test**",
   "metadata": {}
  },
  {
   "cell_type": "code",
   "source": "df.rename(columns={'class': 'labels'}, inplace=True)",
   "metadata": {
    "trusted": true,
    "execution": {
     "iopub.status.busy": "2025-02-12T11:16:26.287446Z",
     "iopub.execute_input": "2025-02-12T11:16:26.287787Z",
     "iopub.status.idle": "2025-02-12T11:16:26.292714Z",
     "shell.execute_reply.started": "2025-02-12T11:16:26.287761Z",
     "shell.execute_reply": "2025-02-12T11:16:26.291633Z"
    }
   },
   "outputs": [],
   "execution_count": 36
  },
  {
   "cell_type": "code",
   "source": "df.head()",
   "metadata": {
    "trusted": true,
    "execution": {
     "iopub.status.busy": "2025-02-12T11:16:32.071408Z",
     "iopub.execute_input": "2025-02-12T11:16:32.071778Z",
     "iopub.status.idle": "2025-02-12T11:16:32.081133Z",
     "shell.execute_reply.started": "2025-02-12T11:16:32.071745Z",
     "shell.execute_reply": "2025-02-12T11:16:32.080071Z"
    }
   },
   "outputs": [
    {
     "execution_count": 37,
     "output_type": "execute_result",
     "data": {
      "text/plain": "                                                text  labels\n0  charikar  afghanistan  reuters    afghan autho...       1\n1  new york  reuters    britain  the united state...       1\n2  vatican city  reuters    pope francis canonize...       1\n3  yes  this will happen  america needs a wall at...       0\n4  there s a lot of buzz about the gop s latest e...       0",
      "text/html": "<div>\n<style scoped>\n    .dataframe tbody tr th:only-of-type {\n        vertical-align: middle;\n    }\n\n    .dataframe tbody tr th {\n        vertical-align: top;\n    }\n\n    .dataframe thead th {\n        text-align: right;\n    }\n</style>\n<table border=\"1\" class=\"dataframe\">\n  <thead>\n    <tr style=\"text-align: right;\">\n      <th></th>\n      <th>text</th>\n      <th>labels</th>\n    </tr>\n  </thead>\n  <tbody>\n    <tr>\n      <th>0</th>\n      <td>charikar  afghanistan  reuters    afghan autho...</td>\n      <td>1</td>\n    </tr>\n    <tr>\n      <th>1</th>\n      <td>new york  reuters    britain  the united state...</td>\n      <td>1</td>\n    </tr>\n    <tr>\n      <th>2</th>\n      <td>vatican city  reuters    pope francis canonize...</td>\n      <td>1</td>\n    </tr>\n    <tr>\n      <th>3</th>\n      <td>yes  this will happen  america needs a wall at...</td>\n      <td>0</td>\n    </tr>\n    <tr>\n      <th>4</th>\n      <td>there s a lot of buzz about the gop s latest e...</td>\n      <td>0</td>\n    </tr>\n  </tbody>\n</table>\n</div>"
     },
     "metadata": {}
    }
   ],
   "execution_count": 37
  },
  {
   "cell_type": "code",
   "source": "df.columns",
   "metadata": {
    "trusted": true,
    "execution": {
     "iopub.status.busy": "2025-02-12T11:17:28.773790Z",
     "iopub.execute_input": "2025-02-12T11:17:28.774185Z",
     "iopub.status.idle": "2025-02-12T11:17:28.781372Z",
     "shell.execute_reply.started": "2025-02-12T11:17:28.774152Z",
     "shell.execute_reply": "2025-02-12T11:17:28.780200Z"
    }
   },
   "outputs": [
    {
     "execution_count": 40,
     "output_type": "execute_result",
     "data": {
      "text/plain": "Index(['text', 'labels'], dtype='object')"
     },
     "metadata": {}
    }
   ],
   "execution_count": 40
  },
  {
   "cell_type": "code",
   "source": "df.shape()",
   "metadata": {
    "trusted": true
   },
   "outputs": [],
   "execution_count": null
  },
  {
   "metadata": {
    "ExecuteTime": {
     "end_time": "2025-02-18T10:36:03.123254Z",
     "start_time": "2025-02-18T10:36:03.002449Z"
    }
   },
   "cell_type": "code",
   "source": "news_dataset = pd.read_csv(\"dataset/val_data.csv\")",
   "outputs": [],
   "execution_count": 11
  },
  {
   "metadata": {
    "ExecuteTime": {
     "end_time": "2025-02-18T10:36:05.283507Z",
     "start_time": "2025-02-18T10:36:05.277634Z"
    }
   },
   "cell_type": "code",
   "source": "news_dataset.head(10)",
   "outputs": [
    {
     "data": {
      "text/plain": [
       "                                                text  labels\n",
       "0  jakarta  reuters    indonesian counter terrori...       1\n",
       "1  london  reuters    london mayor sadiq khan sai...       1\n",
       "2  when donald trump named steve bannon as his ch...       0\n",
       "3  uh oh  billionaire green guru tom stayer says ...       0\n",
       "4  rep  trey gowdy was full of sarcasm  rightfull...       0\n",
       "5  new york  reuters    authorities were investig...       1\n",
       "6  just one more reminder of why president trump ...       0\n",
       "7  oklahoma city  reuters    oklahoma lawmakers w...       1\n",
       "8  convincing president trump to release his tax ...       0\n",
       "9  hillary is without a doubt  the worst and most...       0"
      ],
      "text/html": [
       "<div>\n",
       "<style scoped>\n",
       "    .dataframe tbody tr th:only-of-type {\n",
       "        vertical-align: middle;\n",
       "    }\n",
       "\n",
       "    .dataframe tbody tr th {\n",
       "        vertical-align: top;\n",
       "    }\n",
       "\n",
       "    .dataframe thead th {\n",
       "        text-align: right;\n",
       "    }\n",
       "</style>\n",
       "<table border=\"1\" class=\"dataframe\">\n",
       "  <thead>\n",
       "    <tr style=\"text-align: right;\">\n",
       "      <th></th>\n",
       "      <th>text</th>\n",
       "      <th>labels</th>\n",
       "    </tr>\n",
       "  </thead>\n",
       "  <tbody>\n",
       "    <tr>\n",
       "      <th>0</th>\n",
       "      <td>jakarta  reuters    indonesian counter terrori...</td>\n",
       "      <td>1</td>\n",
       "    </tr>\n",
       "    <tr>\n",
       "      <th>1</th>\n",
       "      <td>london  reuters    london mayor sadiq khan sai...</td>\n",
       "      <td>1</td>\n",
       "    </tr>\n",
       "    <tr>\n",
       "      <th>2</th>\n",
       "      <td>when donald trump named steve bannon as his ch...</td>\n",
       "      <td>0</td>\n",
       "    </tr>\n",
       "    <tr>\n",
       "      <th>3</th>\n",
       "      <td>uh oh  billionaire green guru tom stayer says ...</td>\n",
       "      <td>0</td>\n",
       "    </tr>\n",
       "    <tr>\n",
       "      <th>4</th>\n",
       "      <td>rep  trey gowdy was full of sarcasm  rightfull...</td>\n",
       "      <td>0</td>\n",
       "    </tr>\n",
       "    <tr>\n",
       "      <th>5</th>\n",
       "      <td>new york  reuters    authorities were investig...</td>\n",
       "      <td>1</td>\n",
       "    </tr>\n",
       "    <tr>\n",
       "      <th>6</th>\n",
       "      <td>just one more reminder of why president trump ...</td>\n",
       "      <td>0</td>\n",
       "    </tr>\n",
       "    <tr>\n",
       "      <th>7</th>\n",
       "      <td>oklahoma city  reuters    oklahoma lawmakers w...</td>\n",
       "      <td>1</td>\n",
       "    </tr>\n",
       "    <tr>\n",
       "      <th>8</th>\n",
       "      <td>convincing president trump to release his tax ...</td>\n",
       "      <td>0</td>\n",
       "    </tr>\n",
       "    <tr>\n",
       "      <th>9</th>\n",
       "      <td>hillary is without a doubt  the worst and most...</td>\n",
       "      <td>0</td>\n",
       "    </tr>\n",
       "  </tbody>\n",
       "</table>\n",
       "</div>"
      ]
     },
     "execution_count": 12,
     "metadata": {},
     "output_type": "execute_result"
    }
   ],
   "execution_count": 12
  },
  {
   "metadata": {
    "ExecuteTime": {
     "end_time": "2025-02-18T10:35:41.314522Z",
     "start_time": "2025-02-18T10:35:41.308791Z"
    }
   },
   "cell_type": "code",
   "source": "news_dataset.shape",
   "outputs": [
    {
     "data": {
      "text/plain": [
       "(35902, 3)"
      ]
     },
     "execution_count": 9,
     "metadata": {},
     "output_type": "execute_result"
    }
   ],
   "execution_count": 9
  },
  {
   "metadata": {
    "ExecuteTime": {
     "end_time": "2025-02-18T10:36:34.995348Z",
     "start_time": "2025-02-18T10:36:34.988144Z"
    }
   },
   "cell_type": "code",
   "source": "news_dataset.shape",
   "outputs": [
    {
     "data": {
      "text/plain": [
       "(4488, 2)"
      ]
     },
     "execution_count": 13,
     "metadata": {},
     "output_type": "execute_result"
    }
   ],
   "execution_count": 13
  },
  {
   "metadata": {
    "ExecuteTime": {
     "end_time": "2025-02-18T10:37:48.579887Z",
     "start_time": "2025-02-18T10:37:48.568032Z"
    }
   },
   "cell_type": "code",
   "source": "news_dataset.value_counts('labels')",
   "outputs": [
    {
     "data": {
      "text/plain": [
       "labels\n",
       "0    2378\n",
       "1    2110\n",
       "Name: count, dtype: int64"
      ]
     },
     "execution_count": 14,
     "metadata": {},
     "output_type": "execute_result"
    }
   ],
   "execution_count": 14
  },
  {
   "metadata": {},
   "cell_type": "code",
   "outputs": [],
   "execution_count": null,
   "source": ""
  },
  {
   "metadata": {},
   "cell_type": "code",
   "outputs": [],
   "execution_count": 41,
   "source": "from sklearn.model_selection import train_test_split"
  },
  {
   "cell_type": "code",
   "source": "# train-temp split (80:20)\n\ntrain_data, temp_data = train_test_split(df, test_size=0.2, random_state=42)\n\n# validation-test split (10:10) -> 80:10:10\n\nval_data, test_data = train_test_split(temp_data, test_size=0.5, random_state=42)",
   "metadata": {
    "trusted": true,
    "execution": {
     "iopub.status.busy": "2025-02-12T11:17:38.061795Z",
     "iopub.execute_input": "2025-02-12T11:17:38.062195Z",
     "iopub.status.idle": "2025-02-12T11:17:38.077588Z",
     "shell.execute_reply.started": "2025-02-12T11:17:38.062165Z",
     "shell.execute_reply": "2025-02-12T11:17:38.076533Z"
    }
   },
   "outputs": [],
   "execution_count": 42
  }
 ]
}
